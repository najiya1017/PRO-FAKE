{
  "nbformat": 4,
  "nbformat_minor": 0,
  "metadata": {
    "colab": {
      "provenance": [],
      "gpuType": "T4",
      "include_colab_link": true
    },
    "kernelspec": {
      "name": "python3",
      "display_name": "Python 3"
    },
    "language_info": {
      "name": "python"
    },
    "accelerator": "GPU"
  },
  "cells": [
    {
      "cell_type": "markdown",
      "metadata": {
        "id": "view-in-github",
        "colab_type": "text"
      },
      "source": [
        "<a href=\"https://colab.research.google.com/github/najiya1017/PRO-FAKE/blob/main/Social_Media_Analysis_for_Efficient_Deep_Learning_Fake_Profile_Identification4.ipynb\" target=\"_parent\"><img src=\"https://colab.research.google.com/assets/colab-badge.svg\" alt=\"Open In Colab\"/></a>"
      ]
    },
    {
      "cell_type": "markdown",
      "source": [
        "# download dataset"
      ],
      "metadata": {
        "id": "qTyDO3KAw9is"
      }
    },
    {
      "cell_type": "code",
      "execution_count": null,
      "metadata": {
        "colab": {
          "base_uri": "https://localhost:8080/",
          "height": 90
        },
        "id": "FtpLm1EDrkuS",
        "outputId": "abf71156-2d7c-4db2-f280-9ef8e44ea262"
      },
      "outputs": [
        {
          "output_type": "display_data",
          "data": {
            "text/plain": [
              "<IPython.core.display.HTML object>"
            ],
            "text/html": [
              "\n",
              "     <input type=\"file\" id=\"files-b44c3514-3a81-4a51-a525-1d66995e2ec8\" name=\"files[]\" multiple disabled\n",
              "        style=\"border:none\" />\n",
              "     <output id=\"result-b44c3514-3a81-4a51-a525-1d66995e2ec8\">\n",
              "      Upload widget is only available when the cell has been executed in the\n",
              "      current browser session. Please rerun this cell to enable.\n",
              "      </output>\n",
              "      <script>// Copyright 2017 Google LLC\n",
              "//\n",
              "// Licensed under the Apache License, Version 2.0 (the \"License\");\n",
              "// you may not use this file except in compliance with the License.\n",
              "// You may obtain a copy of the License at\n",
              "//\n",
              "//      http://www.apache.org/licenses/LICENSE-2.0\n",
              "//\n",
              "// Unless required by applicable law or agreed to in writing, software\n",
              "// distributed under the License is distributed on an \"AS IS\" BASIS,\n",
              "// WITHOUT WARRANTIES OR CONDITIONS OF ANY KIND, either express or implied.\n",
              "// See the License for the specific language governing permissions and\n",
              "// limitations under the License.\n",
              "\n",
              "/**\n",
              " * @fileoverview Helpers for google.colab Python module.\n",
              " */\n",
              "(function(scope) {\n",
              "function span(text, styleAttributes = {}) {\n",
              "  const element = document.createElement('span');\n",
              "  element.textContent = text;\n",
              "  for (const key of Object.keys(styleAttributes)) {\n",
              "    element.style[key] = styleAttributes[key];\n",
              "  }\n",
              "  return element;\n",
              "}\n",
              "\n",
              "// Max number of bytes which will be uploaded at a time.\n",
              "const MAX_PAYLOAD_SIZE = 100 * 1024;\n",
              "\n",
              "function _uploadFiles(inputId, outputId) {\n",
              "  const steps = uploadFilesStep(inputId, outputId);\n",
              "  const outputElement = document.getElementById(outputId);\n",
              "  // Cache steps on the outputElement to make it available for the next call\n",
              "  // to uploadFilesContinue from Python.\n",
              "  outputElement.steps = steps;\n",
              "\n",
              "  return _uploadFilesContinue(outputId);\n",
              "}\n",
              "\n",
              "// This is roughly an async generator (not supported in the browser yet),\n",
              "// where there are multiple asynchronous steps and the Python side is going\n",
              "// to poll for completion of each step.\n",
              "// This uses a Promise to block the python side on completion of each step,\n",
              "// then passes the result of the previous step as the input to the next step.\n",
              "function _uploadFilesContinue(outputId) {\n",
              "  const outputElement = document.getElementById(outputId);\n",
              "  const steps = outputElement.steps;\n",
              "\n",
              "  const next = steps.next(outputElement.lastPromiseValue);\n",
              "  return Promise.resolve(next.value.promise).then((value) => {\n",
              "    // Cache the last promise value to make it available to the next\n",
              "    // step of the generator.\n",
              "    outputElement.lastPromiseValue = value;\n",
              "    return next.value.response;\n",
              "  });\n",
              "}\n",
              "\n",
              "/**\n",
              " * Generator function which is called between each async step of the upload\n",
              " * process.\n",
              " * @param {string} inputId Element ID of the input file picker element.\n",
              " * @param {string} outputId Element ID of the output display.\n",
              " * @return {!Iterable<!Object>} Iterable of next steps.\n",
              " */\n",
              "function* uploadFilesStep(inputId, outputId) {\n",
              "  const inputElement = document.getElementById(inputId);\n",
              "  inputElement.disabled = false;\n",
              "\n",
              "  const outputElement = document.getElementById(outputId);\n",
              "  outputElement.innerHTML = '';\n",
              "\n",
              "  const pickedPromise = new Promise((resolve) => {\n",
              "    inputElement.addEventListener('change', (e) => {\n",
              "      resolve(e.target.files);\n",
              "    });\n",
              "  });\n",
              "\n",
              "  const cancel = document.createElement('button');\n",
              "  inputElement.parentElement.appendChild(cancel);\n",
              "  cancel.textContent = 'Cancel upload';\n",
              "  const cancelPromise = new Promise((resolve) => {\n",
              "    cancel.onclick = () => {\n",
              "      resolve(null);\n",
              "    };\n",
              "  });\n",
              "\n",
              "  // Wait for the user to pick the files.\n",
              "  const files = yield {\n",
              "    promise: Promise.race([pickedPromise, cancelPromise]),\n",
              "    response: {\n",
              "      action: 'starting',\n",
              "    }\n",
              "  };\n",
              "\n",
              "  cancel.remove();\n",
              "\n",
              "  // Disable the input element since further picks are not allowed.\n",
              "  inputElement.disabled = true;\n",
              "\n",
              "  if (!files) {\n",
              "    return {\n",
              "      response: {\n",
              "        action: 'complete',\n",
              "      }\n",
              "    };\n",
              "  }\n",
              "\n",
              "  for (const file of files) {\n",
              "    const li = document.createElement('li');\n",
              "    li.append(span(file.name, {fontWeight: 'bold'}));\n",
              "    li.append(span(\n",
              "        `(${file.type || 'n/a'}) - ${file.size} bytes, ` +\n",
              "        `last modified: ${\n",
              "            file.lastModifiedDate ? file.lastModifiedDate.toLocaleDateString() :\n",
              "                                    'n/a'} - `));\n",
              "    const percent = span('0% done');\n",
              "    li.appendChild(percent);\n",
              "\n",
              "    outputElement.appendChild(li);\n",
              "\n",
              "    const fileDataPromise = new Promise((resolve) => {\n",
              "      const reader = new FileReader();\n",
              "      reader.onload = (e) => {\n",
              "        resolve(e.target.result);\n",
              "      };\n",
              "      reader.readAsArrayBuffer(file);\n",
              "    });\n",
              "    // Wait for the data to be ready.\n",
              "    let fileData = yield {\n",
              "      promise: fileDataPromise,\n",
              "      response: {\n",
              "        action: 'continue',\n",
              "      }\n",
              "    };\n",
              "\n",
              "    // Use a chunked sending to avoid message size limits. See b/62115660.\n",
              "    let position = 0;\n",
              "    do {\n",
              "      const length = Math.min(fileData.byteLength - position, MAX_PAYLOAD_SIZE);\n",
              "      const chunk = new Uint8Array(fileData, position, length);\n",
              "      position += length;\n",
              "\n",
              "      const base64 = btoa(String.fromCharCode.apply(null, chunk));\n",
              "      yield {\n",
              "        response: {\n",
              "          action: 'append',\n",
              "          file: file.name,\n",
              "          data: base64,\n",
              "        },\n",
              "      };\n",
              "\n",
              "      let percentDone = fileData.byteLength === 0 ?\n",
              "          100 :\n",
              "          Math.round((position / fileData.byteLength) * 100);\n",
              "      percent.textContent = `${percentDone}% done`;\n",
              "\n",
              "    } while (position < fileData.byteLength);\n",
              "  }\n",
              "\n",
              "  // All done.\n",
              "  yield {\n",
              "    response: {\n",
              "      action: 'complete',\n",
              "    }\n",
              "  };\n",
              "}\n",
              "\n",
              "scope.google = scope.google || {};\n",
              "scope.google.colab = scope.google.colab || {};\n",
              "scope.google.colab._files = {\n",
              "  _uploadFiles,\n",
              "  _uploadFilesContinue,\n",
              "};\n",
              "})(self);\n",
              "</script> "
            ]
          },
          "metadata": {}
        },
        {
          "output_type": "stream",
          "name": "stdout",
          "text": [
            "Saving kaggle.json to kaggle.json\n"
          ]
        },
        {
          "output_type": "execute_result",
          "data": {
            "text/plain": [
              "{'kaggle.json': b'{\"username\":\"akumar5189\",\"key\":\"2696a900cc1140e193898bd7a6284aca\"}'}"
            ]
          },
          "metadata": {},
          "execution_count": 1
        }
      ],
      "source": [
        "#upload api key\n",
        "from google.colab import files\n",
        "files.upload()"
      ]
    },
    {
      "cell_type": "code",
      "source": [
        "# prepare for api command and give permission for read and write\n",
        "!mkdir ~/.kaggle\n",
        "!cp kaggle.json ~/.kaggle\n",
        "!rm -rf kaggle.json\n",
        "!chmod 600 ~/.kaggle/kaggle.json"
      ],
      "metadata": {
        "id": "5MKRz3rgxEO2"
      },
      "execution_count": null,
      "outputs": []
    },
    {
      "cell_type": "code",
      "source": [
        "!kaggle datasets download -d free4ever1/instagram-fake-spammer-genuine-accounts"
      ],
      "metadata": {
        "colab": {
          "base_uri": "https://localhost:8080/"
        },
        "id": "XpBpX3W0xHqk",
        "outputId": "633fef2e-567a-43b4-b0e8-db4bf12e0417"
      },
      "execution_count": null,
      "outputs": [
        {
          "output_type": "stream",
          "name": "stdout",
          "text": [
            "Dataset URL: https://www.kaggle.com/datasets/free4ever1/instagram-fake-spammer-genuine-accounts\n",
            "License(s): Attribution 3.0 Unported (CC BY 3.0)\n",
            "Downloading instagram-fake-spammer-genuine-accounts.zip to /content\n",
            "  0% 0.00/6.81k [00:00<?, ?B/s]\n",
            "100% 6.81k/6.81k [00:00<00:00, 12.6MB/s]\n"
          ]
        }
      ]
    },
    {
      "cell_type": "code",
      "source": [
        "#unzip dataset\n",
        "!unzip /content/instagram-fake-spammer-genuine-accounts.zip &> /dev/null\n",
        "!rm -rf /content/instagram-fake-spammer-genuine-accounts.zip"
      ],
      "metadata": {
        "id": "Fv38q_q-xLM1"
      },
      "execution_count": null,
      "outputs": []
    },
    {
      "cell_type": "markdown",
      "source": [
        "# Import Libraries"
      ],
      "metadata": {
        "id": "ZEA22eYzxh5q"
      }
    },
    {
      "cell_type": "code",
      "source": [
        "import pandas as pd\n",
        "import numpy as np\n",
        "import matplotlib.pyplot as plt\n",
        "import seaborn as sns\n",
        "from sklearn.model_selection import train_test_split\n",
        "from sklearn.svm import SVC\n",
        "from sklearn.metrics import  accuracy_score\n",
        "from sklearn.neural_network import MLPClassifier\n",
        "from sklearn.neighbors import KNeighborsClassifier\n",
        "from sklearn.metrics import confusion_matrix\n",
        "from tensorflow.keras import utils\n",
        "from tensorflow import keras\n",
        "from tensorflow.keras import layers"
      ],
      "metadata": {
        "id": "Sr1felC1xbr6"
      },
      "execution_count": null,
      "outputs": []
    },
    {
      "cell_type": "code",
      "source": [
        "\n",
        "train = pd.read_csv('train.csv') # load Training dataset\n",
        "test = pd.read_csv('test.csv') # load Testing dataset\n",
        "#combine data\n",
        "df = pd.concat([train, test], ignore_index=True)"
      ],
      "metadata": {
        "id": "8aVQUSKAx7f8"
      },
      "execution_count": null,
      "outputs": []
    },
    {
      "cell_type": "code",
      "source": [
        "df.head(4)"
      ],
      "metadata": {
        "colab": {
          "base_uri": "https://localhost:8080/",
          "height": 192
        },
        "id": "d6Z5hMgU3LsB",
        "outputId": "2d3b6c05-4361-4db2-bc06-29b0a19931e1"
      },
      "execution_count": null,
      "outputs": [
        {
          "output_type": "execute_result",
          "data": {
            "text/plain": [
              "   profile pic  nums/length username  fullname words  nums/length fullname  \\\n",
              "0            1                  0.27               0                   0.0   \n",
              "1            1                  0.00               2                   0.0   \n",
              "2            1                  0.10               2                   0.0   \n",
              "3            1                  0.00               1                   0.0   \n",
              "\n",
              "   name==username  description length  external URL  private  #posts  \\\n",
              "0               0                  53             0        0      32   \n",
              "1               0                  44             0        0     286   \n",
              "2               0                   0             0        1      13   \n",
              "3               0                  82             0        0     679   \n",
              "\n",
              "   #followers  #follows  fake  \n",
              "0        1000       955     0  \n",
              "1        2740       533     0  \n",
              "2         159        98     0  \n",
              "3         414       651     0  "
            ],
            "text/html": [
              "\n",
              "  <div id=\"df-fc15809e-78d7-4a83-8225-3d29ea9e3ea8\" class=\"colab-df-container\">\n",
              "    <div>\n",
              "<style scoped>\n",
              "    .dataframe tbody tr th:only-of-type {\n",
              "        vertical-align: middle;\n",
              "    }\n",
              "\n",
              "    .dataframe tbody tr th {\n",
              "        vertical-align: top;\n",
              "    }\n",
              "\n",
              "    .dataframe thead th {\n",
              "        text-align: right;\n",
              "    }\n",
              "</style>\n",
              "<table border=\"1\" class=\"dataframe\">\n",
              "  <thead>\n",
              "    <tr style=\"text-align: right;\">\n",
              "      <th></th>\n",
              "      <th>profile pic</th>\n",
              "      <th>nums/length username</th>\n",
              "      <th>fullname words</th>\n",
              "      <th>nums/length fullname</th>\n",
              "      <th>name==username</th>\n",
              "      <th>description length</th>\n",
              "      <th>external URL</th>\n",
              "      <th>private</th>\n",
              "      <th>#posts</th>\n",
              "      <th>#followers</th>\n",
              "      <th>#follows</th>\n",
              "      <th>fake</th>\n",
              "    </tr>\n",
              "  </thead>\n",
              "  <tbody>\n",
              "    <tr>\n",
              "      <th>0</th>\n",
              "      <td>1</td>\n",
              "      <td>0.27</td>\n",
              "      <td>0</td>\n",
              "      <td>0.0</td>\n",
              "      <td>0</td>\n",
              "      <td>53</td>\n",
              "      <td>0</td>\n",
              "      <td>0</td>\n",
              "      <td>32</td>\n",
              "      <td>1000</td>\n",
              "      <td>955</td>\n",
              "      <td>0</td>\n",
              "    </tr>\n",
              "    <tr>\n",
              "      <th>1</th>\n",
              "      <td>1</td>\n",
              "      <td>0.00</td>\n",
              "      <td>2</td>\n",
              "      <td>0.0</td>\n",
              "      <td>0</td>\n",
              "      <td>44</td>\n",
              "      <td>0</td>\n",
              "      <td>0</td>\n",
              "      <td>286</td>\n",
              "      <td>2740</td>\n",
              "      <td>533</td>\n",
              "      <td>0</td>\n",
              "    </tr>\n",
              "    <tr>\n",
              "      <th>2</th>\n",
              "      <td>1</td>\n",
              "      <td>0.10</td>\n",
              "      <td>2</td>\n",
              "      <td>0.0</td>\n",
              "      <td>0</td>\n",
              "      <td>0</td>\n",
              "      <td>0</td>\n",
              "      <td>1</td>\n",
              "      <td>13</td>\n",
              "      <td>159</td>\n",
              "      <td>98</td>\n",
              "      <td>0</td>\n",
              "    </tr>\n",
              "    <tr>\n",
              "      <th>3</th>\n",
              "      <td>1</td>\n",
              "      <td>0.00</td>\n",
              "      <td>1</td>\n",
              "      <td>0.0</td>\n",
              "      <td>0</td>\n",
              "      <td>82</td>\n",
              "      <td>0</td>\n",
              "      <td>0</td>\n",
              "      <td>679</td>\n",
              "      <td>414</td>\n",
              "      <td>651</td>\n",
              "      <td>0</td>\n",
              "    </tr>\n",
              "  </tbody>\n",
              "</table>\n",
              "</div>\n",
              "    <div class=\"colab-df-buttons\">\n",
              "\n",
              "  <div class=\"colab-df-container\">\n",
              "    <button class=\"colab-df-convert\" onclick=\"convertToInteractive('df-fc15809e-78d7-4a83-8225-3d29ea9e3ea8')\"\n",
              "            title=\"Convert this dataframe to an interactive table.\"\n",
              "            style=\"display:none;\">\n",
              "\n",
              "  <svg xmlns=\"http://www.w3.org/2000/svg\" height=\"24px\" viewBox=\"0 -960 960 960\">\n",
              "    <path d=\"M120-120v-720h720v720H120Zm60-500h600v-160H180v160Zm220 220h160v-160H400v160Zm0 220h160v-160H400v160ZM180-400h160v-160H180v160Zm440 0h160v-160H620v160ZM180-180h160v-160H180v160Zm440 0h160v-160H620v160Z\"/>\n",
              "  </svg>\n",
              "    </button>\n",
              "\n",
              "  <style>\n",
              "    .colab-df-container {\n",
              "      display:flex;\n",
              "      gap: 12px;\n",
              "    }\n",
              "\n",
              "    .colab-df-convert {\n",
              "      background-color: #E8F0FE;\n",
              "      border: none;\n",
              "      border-radius: 50%;\n",
              "      cursor: pointer;\n",
              "      display: none;\n",
              "      fill: #1967D2;\n",
              "      height: 32px;\n",
              "      padding: 0 0 0 0;\n",
              "      width: 32px;\n",
              "    }\n",
              "\n",
              "    .colab-df-convert:hover {\n",
              "      background-color: #E2EBFA;\n",
              "      box-shadow: 0px 1px 2px rgba(60, 64, 67, 0.3), 0px 1px 3px 1px rgba(60, 64, 67, 0.15);\n",
              "      fill: #174EA6;\n",
              "    }\n",
              "\n",
              "    .colab-df-buttons div {\n",
              "      margin-bottom: 4px;\n",
              "    }\n",
              "\n",
              "    [theme=dark] .colab-df-convert {\n",
              "      background-color: #3B4455;\n",
              "      fill: #D2E3FC;\n",
              "    }\n",
              "\n",
              "    [theme=dark] .colab-df-convert:hover {\n",
              "      background-color: #434B5C;\n",
              "      box-shadow: 0px 1px 3px 1px rgba(0, 0, 0, 0.15);\n",
              "      filter: drop-shadow(0px 1px 2px rgba(0, 0, 0, 0.3));\n",
              "      fill: #FFFFFF;\n",
              "    }\n",
              "  </style>\n",
              "\n",
              "    <script>\n",
              "      const buttonEl =\n",
              "        document.querySelector('#df-fc15809e-78d7-4a83-8225-3d29ea9e3ea8 button.colab-df-convert');\n",
              "      buttonEl.style.display =\n",
              "        google.colab.kernel.accessAllowed ? 'block' : 'none';\n",
              "\n",
              "      async function convertToInteractive(key) {\n",
              "        const element = document.querySelector('#df-fc15809e-78d7-4a83-8225-3d29ea9e3ea8');\n",
              "        const dataTable =\n",
              "          await google.colab.kernel.invokeFunction('convertToInteractive',\n",
              "                                                    [key], {});\n",
              "        if (!dataTable) return;\n",
              "\n",
              "        const docLinkHtml = 'Like what you see? Visit the ' +\n",
              "          '<a target=\"_blank\" href=https://colab.research.google.com/notebooks/data_table.ipynb>data table notebook</a>'\n",
              "          + ' to learn more about interactive tables.';\n",
              "        element.innerHTML = '';\n",
              "        dataTable['output_type'] = 'display_data';\n",
              "        await google.colab.output.renderOutput(dataTable, element);\n",
              "        const docLink = document.createElement('div');\n",
              "        docLink.innerHTML = docLinkHtml;\n",
              "        element.appendChild(docLink);\n",
              "      }\n",
              "    </script>\n",
              "  </div>\n",
              "\n",
              "\n",
              "<div id=\"df-f484447e-6567-45ea-9f47-ca99c889cb2b\">\n",
              "  <button class=\"colab-df-quickchart\" onclick=\"quickchart('df-f484447e-6567-45ea-9f47-ca99c889cb2b')\"\n",
              "            title=\"Suggest charts\"\n",
              "            style=\"display:none;\">\n",
              "\n",
              "<svg xmlns=\"http://www.w3.org/2000/svg\" height=\"24px\"viewBox=\"0 0 24 24\"\n",
              "     width=\"24px\">\n",
              "    <g>\n",
              "        <path d=\"M19 3H5c-1.1 0-2 .9-2 2v14c0 1.1.9 2 2 2h14c1.1 0 2-.9 2-2V5c0-1.1-.9-2-2-2zM9 17H7v-7h2v7zm4 0h-2V7h2v10zm4 0h-2v-4h2v4z\"/>\n",
              "    </g>\n",
              "</svg>\n",
              "  </button>\n",
              "\n",
              "<style>\n",
              "  .colab-df-quickchart {\n",
              "      --bg-color: #E8F0FE;\n",
              "      --fill-color: #1967D2;\n",
              "      --hover-bg-color: #E2EBFA;\n",
              "      --hover-fill-color: #174EA6;\n",
              "      --disabled-fill-color: #AAA;\n",
              "      --disabled-bg-color: #DDD;\n",
              "  }\n",
              "\n",
              "  [theme=dark] .colab-df-quickchart {\n",
              "      --bg-color: #3B4455;\n",
              "      --fill-color: #D2E3FC;\n",
              "      --hover-bg-color: #434B5C;\n",
              "      --hover-fill-color: #FFFFFF;\n",
              "      --disabled-bg-color: #3B4455;\n",
              "      --disabled-fill-color: #666;\n",
              "  }\n",
              "\n",
              "  .colab-df-quickchart {\n",
              "    background-color: var(--bg-color);\n",
              "    border: none;\n",
              "    border-radius: 50%;\n",
              "    cursor: pointer;\n",
              "    display: none;\n",
              "    fill: var(--fill-color);\n",
              "    height: 32px;\n",
              "    padding: 0;\n",
              "    width: 32px;\n",
              "  }\n",
              "\n",
              "  .colab-df-quickchart:hover {\n",
              "    background-color: var(--hover-bg-color);\n",
              "    box-shadow: 0 1px 2px rgba(60, 64, 67, 0.3), 0 1px 3px 1px rgba(60, 64, 67, 0.15);\n",
              "    fill: var(--button-hover-fill-color);\n",
              "  }\n",
              "\n",
              "  .colab-df-quickchart-complete:disabled,\n",
              "  .colab-df-quickchart-complete:disabled:hover {\n",
              "    background-color: var(--disabled-bg-color);\n",
              "    fill: var(--disabled-fill-color);\n",
              "    box-shadow: none;\n",
              "  }\n",
              "\n",
              "  .colab-df-spinner {\n",
              "    border: 2px solid var(--fill-color);\n",
              "    border-color: transparent;\n",
              "    border-bottom-color: var(--fill-color);\n",
              "    animation:\n",
              "      spin 1s steps(1) infinite;\n",
              "  }\n",
              "\n",
              "  @keyframes spin {\n",
              "    0% {\n",
              "      border-color: transparent;\n",
              "      border-bottom-color: var(--fill-color);\n",
              "      border-left-color: var(--fill-color);\n",
              "    }\n",
              "    20% {\n",
              "      border-color: transparent;\n",
              "      border-left-color: var(--fill-color);\n",
              "      border-top-color: var(--fill-color);\n",
              "    }\n",
              "    30% {\n",
              "      border-color: transparent;\n",
              "      border-left-color: var(--fill-color);\n",
              "      border-top-color: var(--fill-color);\n",
              "      border-right-color: var(--fill-color);\n",
              "    }\n",
              "    40% {\n",
              "      border-color: transparent;\n",
              "      border-right-color: var(--fill-color);\n",
              "      border-top-color: var(--fill-color);\n",
              "    }\n",
              "    60% {\n",
              "      border-color: transparent;\n",
              "      border-right-color: var(--fill-color);\n",
              "    }\n",
              "    80% {\n",
              "      border-color: transparent;\n",
              "      border-right-color: var(--fill-color);\n",
              "      border-bottom-color: var(--fill-color);\n",
              "    }\n",
              "    90% {\n",
              "      border-color: transparent;\n",
              "      border-bottom-color: var(--fill-color);\n",
              "    }\n",
              "  }\n",
              "</style>\n",
              "\n",
              "  <script>\n",
              "    async function quickchart(key) {\n",
              "      const quickchartButtonEl =\n",
              "        document.querySelector('#' + key + ' button');\n",
              "      quickchartButtonEl.disabled = true;  // To prevent multiple clicks.\n",
              "      quickchartButtonEl.classList.add('colab-df-spinner');\n",
              "      try {\n",
              "        const charts = await google.colab.kernel.invokeFunction(\n",
              "            'suggestCharts', [key], {});\n",
              "      } catch (error) {\n",
              "        console.error('Error during call to suggestCharts:', error);\n",
              "      }\n",
              "      quickchartButtonEl.classList.remove('colab-df-spinner');\n",
              "      quickchartButtonEl.classList.add('colab-df-quickchart-complete');\n",
              "    }\n",
              "    (() => {\n",
              "      let quickchartButtonEl =\n",
              "        document.querySelector('#df-f484447e-6567-45ea-9f47-ca99c889cb2b button');\n",
              "      quickchartButtonEl.style.display =\n",
              "        google.colab.kernel.accessAllowed ? 'block' : 'none';\n",
              "    })();\n",
              "  </script>\n",
              "</div>\n",
              "\n",
              "    </div>\n",
              "  </div>\n"
            ],
            "application/vnd.google.colaboratory.intrinsic+json": {
              "type": "dataframe",
              "variable_name": "df",
              "summary": "{\n  \"name\": \"df\",\n  \"rows\": 696,\n  \"fields\": [\n    {\n      \"column\": \"profile pic\",\n      \"properties\": {\n        \"dtype\": \"number\",\n        \"std\": 0,\n        \"min\": 0,\n        \"max\": 1,\n        \"num_unique_values\": 2,\n        \"samples\": [\n          0,\n          1\n        ],\n        \"semantic_type\": \"\",\n        \"description\": \"\"\n      }\n    },\n    {\n      \"column\": \"nums/length username\",\n      \"properties\": {\n        \"dtype\": \"number\",\n        \"std\": 0.21896354185919706,\n        \"min\": 0.0,\n        \"max\": 0.92,\n        \"num_unique_values\": 58,\n        \"samples\": [\n          0.27,\n          0.18\n        ],\n        \"semantic_type\": \"\",\n        \"description\": \"\"\n      }\n    },\n    {\n      \"column\": \"fullname words\",\n      \"properties\": {\n        \"dtype\": \"number\",\n        \"std\": 1,\n        \"min\": 0,\n        \"max\": 12,\n        \"num_unique_values\": 11,\n        \"samples\": [\n          6,\n          0\n        ],\n        \"semantic_type\": \"\",\n        \"description\": \"\"\n      }\n    },\n    {\n      \"column\": \"nums/length fullname\",\n      \"properties\": {\n        \"dtype\": \"number\",\n        \"std\": 0.14366439706669326,\n        \"min\": 0.0,\n        \"max\": 1.0,\n        \"num_unique_values\": 27,\n        \"samples\": [\n          0.22,\n          0.11\n        ],\n        \"semantic_type\": \"\",\n        \"description\": \"\"\n      }\n    },\n    {\n      \"column\": \"name==username\",\n      \"properties\": {\n        \"dtype\": \"number\",\n        \"std\": 0,\n        \"min\": 0,\n        \"max\": 1,\n        \"num_unique_values\": 2,\n        \"samples\": [\n          1,\n          0\n        ],\n        \"semantic_type\": \"\",\n        \"description\": \"\"\n      }\n    },\n    {\n      \"column\": \"description length\",\n      \"properties\": {\n        \"dtype\": \"number\",\n        \"std\": 38,\n        \"min\": 0,\n        \"max\": 150,\n        \"num_unique_values\": 114,\n        \"samples\": [\n          10,\n          81\n        ],\n        \"semantic_type\": \"\",\n        \"description\": \"\"\n      }\n    },\n    {\n      \"column\": \"external URL\",\n      \"properties\": {\n        \"dtype\": \"number\",\n        \"std\": 0,\n        \"min\": 0,\n        \"max\": 1,\n        \"num_unique_values\": 2,\n        \"samples\": [\n          1,\n          0\n        ],\n        \"semantic_type\": \"\",\n        \"description\": \"\"\n      }\n    },\n    {\n      \"column\": \"private\",\n      \"properties\": {\n        \"dtype\": \"number\",\n        \"std\": 0,\n        \"min\": 0,\n        \"max\": 1,\n        \"num_unique_values\": 2,\n        \"samples\": [\n          1,\n          0\n        ],\n        \"semantic_type\": \"\",\n        \"description\": \"\"\n      }\n    },\n    {\n      \"column\": \"#posts\",\n      \"properties\": {\n        \"dtype\": \"number\",\n        \"std\": 378,\n        \"min\": 0,\n        \"max\": 7389,\n        \"num_unique_values\": 211,\n        \"samples\": [\n          980,\n          95\n        ],\n        \"semantic_type\": \"\",\n        \"description\": \"\"\n      }\n    },\n    {\n      \"column\": \"#followers\",\n      \"properties\": {\n        \"dtype\": \"number\",\n        \"std\": 842887,\n        \"min\": 0,\n        \"max\": 15338538,\n        \"num_unique_values\": 435,\n        \"samples\": [\n          47,\n          470\n        ],\n        \"semantic_type\": \"\",\n        \"description\": \"\"\n      }\n    },\n    {\n      \"column\": \"#follows\",\n      \"properties\": {\n        \"dtype\": \"number\",\n        \"std\": 1023,\n        \"min\": 0,\n        \"max\": 7500,\n        \"num_unique_values\": 468,\n        \"samples\": [\n          283,\n          1882\n        ],\n        \"semantic_type\": \"\",\n        \"description\": \"\"\n      }\n    },\n    {\n      \"column\": \"fake\",\n      \"properties\": {\n        \"dtype\": \"number\",\n        \"std\": 0,\n        \"min\": 0,\n        \"max\": 1,\n        \"num_unique_values\": 2,\n        \"samples\": [\n          1,\n          0\n        ],\n        \"semantic_type\": \"\",\n        \"description\": \"\"\n      }\n    }\n  ]\n}"
            }
          },
          "metadata": {},
          "execution_count": 7
        }
      ]
    },
    {
      "cell_type": "markdown",
      "source": [
        "#Exploratory Data Analysis"
      ],
      "metadata": {
        "id": "Y2b5VgvGx2ip"
      }
    },
    {
      "cell_type": "code",
      "source": [
        "# dataset size\n",
        "print(\" size of dataset :\",len(df))\n"
      ],
      "metadata": {
        "colab": {
          "base_uri": "https://localhost:8080/"
        },
        "id": "t3-Wj1CN5P4f",
        "outputId": "cc1cc835-2e12-4ecf-e94f-4a9149d760e4"
      },
      "execution_count": null,
      "outputs": [
        {
          "output_type": "stream",
          "name": "stdout",
          "text": [
            " size of dataset : 696\n"
          ]
        }
      ]
    },
    {
      "cell_type": "code",
      "source": [
        "# target count\n",
        "target_count = df.fake.value_counts()\n",
        "target_count"
      ],
      "metadata": {
        "colab": {
          "base_uri": "https://localhost:8080/"
        },
        "id": "4hZuvg0ox1x7",
        "outputId": "c260bd2c-30ce-45bb-9b7b-0e57e332e6f7"
      },
      "execution_count": null,
      "outputs": [
        {
          "output_type": "execute_result",
          "data": {
            "text/plain": [
              "fake\n",
              "0    348\n",
              "1    348\n",
              "Name: count, dtype: int64"
            ]
          },
          "metadata": {},
          "execution_count": 9
        }
      ]
    },
    {
      "cell_type": "code",
      "source": [
        "print('target have {}% for non-fake and {}% for fake.'.format(round(100*(target_count[1]/target_count.sum())),\n",
        "                                                                  round(100*(target_count[0]/target_count.sum()))))"
      ],
      "metadata": {
        "colab": {
          "base_uri": "https://localhost:8080/"
        },
        "id": "M0JJzgrS5xg_",
        "outputId": "6e68f54e-cf31-4b56-f5f3-2f36c3bea915"
      },
      "execution_count": null,
      "outputs": [
        {
          "output_type": "stream",
          "name": "stdout",
          "text": [
            "target have 50% for non-fake and 50% for fake.\n"
          ]
        }
      ]
    },
    {
      "cell_type": "code",
      "source": [
        "df.shape"
      ],
      "metadata": {
        "colab": {
          "base_uri": "https://localhost:8080/"
        },
        "id": "4FWFPM6V55_v",
        "outputId": "c60adef8-b0be-4de6-e2ae-66d24e4cdbea"
      },
      "execution_count": null,
      "outputs": [
        {
          "output_type": "execute_result",
          "data": {
            "text/plain": [
              "(696, 12)"
            ]
          },
          "metadata": {},
          "execution_count": 11
        }
      ]
    },
    {
      "cell_type": "code",
      "source": [
        "# graphical analysis\n",
        "plt.figure(dpi=60,figsize=(12,4))\n",
        "sns.countplot(x ='fake', data=df, hue = \"fake\")\n",
        "plt.xticks(rotation =80)\n",
        "plt.title('dataset label count')\n",
        "plt.show()"
      ],
      "metadata": {
        "colab": {
          "base_uri": "https://localhost:8080/",
          "height": 251
        },
        "id": "qWfrOjzm60dF",
        "outputId": "bc6c54cb-c6ff-404e-b9ae-aea343aa8f77"
      },
      "execution_count": null,
      "outputs": [
        {
          "output_type": "display_data",
          "data": {
            "text/plain": [
              "<Figure size 720x240 with 1 Axes>"
            ],
            "image/png": "[encoded data removed]"
          },
          "metadata": {}
        }
      ]
    },
    {
      "cell_type": "code",
      "source": [
        "# Check descriptive statistics\n",
        "df.describe()"
      ],
      "metadata": {
        "colab": {
          "base_uri": "https://localhost:8080/",
          "height": 337
        },
        "id": "4uEv_XkI8GUq",
        "outputId": "6e4db4ad-d642-4c08-b005-068a54f65fd7"
      },
      "execution_count": null,
      "outputs": [
        {
          "output_type": "execute_result",
          "data": {
            "text/plain": [
              "       profile pic  nums/length username  fullname words  \\\n",
              "count   696.000000            696.000000      696.000000   \n",
              "mean      0.711207              0.166609        1.475575   \n",
              "std       0.453527              0.218964        1.076622   \n",
              "min       0.000000              0.000000        0.000000   \n",
              "25%       0.000000              0.000000        1.000000   \n",
              "50%       1.000000              0.000000        1.000000   \n",
              "75%       1.000000              0.330000        2.000000   \n",
              "max       1.000000              0.920000       12.000000   \n",
              "\n",
              "       nums/length fullname  name==username  description length  external URL  \\\n",
              "count            696.000000      696.000000          696.000000    696.000000   \n",
              "mean               0.042170        0.035920           23.412356      0.113506   \n",
              "std                0.143664        0.186223           38.595721      0.317438   \n",
              "min                0.000000        0.000000            0.000000      0.000000   \n",
              "25%                0.000000        0.000000            0.000000      0.000000   \n",
              "50%                0.000000        0.000000            0.000000      0.000000   \n",
              "75%                0.000000        0.000000           35.000000      0.000000   \n",
              "max                1.000000        1.000000          150.000000      1.000000   \n",
              "\n",
              "          private       #posts    #followers     #follows       fake  \n",
              "count  696.000000   696.000000  6.960000e+02   696.000000  696.00000  \n",
              "mean     0.369253   103.244253  7.914991e+04   555.086207    0.50000  \n",
              "std      0.482950   378.028168  8.428875e+05  1023.613869    0.50036  \n",
              "min      0.000000     0.000000  0.000000e+00     0.000000    0.00000  \n",
              "25%      0.000000     0.000000  4.200000e+01    61.000000    0.00000  \n",
              "50%      0.000000     9.000000  1.655000e+02   252.000000    0.50000  \n",
              "75%      1.000000    77.000000  6.930000e+02   601.750000    1.00000  \n",
              "max      1.000000  7389.000000  1.533854e+07  7500.000000    1.00000  "
            ],
            "text/html": [
              "\n",
              "  <div id=\"df-0c34d5e5-3a40-422f-b7f3-beddd3b9d824\" class=\"colab-df-container\">\n",
              "    <div>\n",
              "<style scoped>\n",
              "    .dataframe tbody tr th:only-of-type {\n",
              "        vertical-align: middle;\n",
              "    }\n",
              "\n",
              "    .dataframe tbody tr th {\n",
              "        vertical-align: top;\n",
              "    }\n",
              "\n",
              "    .dataframe thead th {\n",
              "        text-align: right;\n",
              "    }\n",
              "</style>\n",
              "<table border=\"1\" class=\"dataframe\">\n",
              "  <thead>\n",
              "    <tr style=\"text-align: right;\">\n",
              "      <th></th>\n",
              "      <th>profile pic</th>\n",
              "      <th>nums/length username</th>\n",
              "      <th>fullname words</th>\n",
              "      <th>nums/length fullname</th>\n",
              "      <th>name==username</th>\n",
              "      <th>description length</th>\n",
              "      <th>external URL</th>\n",
              "      <th>private</th>\n",
              "      <th>#posts</th>\n",
              "      <th>#followers</th>\n",
              "      <th>#follows</th>\n",
              "      <th>fake</th>\n",
              "    </tr>\n",
              "  </thead>\n",
              "  <tbody>\n",
              "    <tr>\n",
              "      <th>count</th>\n",
              "      <td>696.000000</td>\n",
              "      <td>696.000000</td>\n",
              "      <td>696.000000</td>\n",
              "      <td>696.000000</td>\n",
              "      <td>696.000000</td>\n",
              "      <td>696.000000</td>\n",
              "      <td>696.000000</td>\n",
              "      <td>696.000000</td>\n",
              "      <td>696.000000</td>\n",
              "      <td>6.960000e+02</td>\n",
              "      <td>696.000000</td>\n",
              "      <td>696.00000</td>\n",
              "    </tr>\n",
              "    <tr>\n",
              "      <th>mean</th>\n",
              "      <td>0.711207</td>\n",
              "      <td>0.166609</td>\n",
              "      <td>1.475575</td>\n",
              "      <td>0.042170</td>\n",
              "      <td>0.035920</td>\n",
              "      <td>23.412356</td>\n",
              "      <td>0.113506</td>\n",
              "      <td>0.369253</td>\n",
              "      <td>103.244253</td>\n",
              "      <td>7.914991e+04</td>\n",
              "      <td>555.086207</td>\n",
              "      <td>0.50000</td>\n",
              "    </tr>\n",
              "    <tr>\n",
              "      <th>std</th>\n",
              "      <td>0.453527</td>\n",
              "      <td>0.218964</td>\n",
              "      <td>1.076622</td>\n",
              "      <td>0.143664</td>\n",
              "      <td>0.186223</td>\n",
              "      <td>38.595721</td>\n",
              "      <td>0.317438</td>\n",
              "      <td>0.482950</td>\n",
              "      <td>378.028168</td>\n",
              "      <td>8.428875e+05</td>\n",
              "      <td>1023.613869</td>\n",
              "      <td>0.50036</td>\n",
              "    </tr>\n",
              "    <tr>\n",
              "      <th>min</th>\n",
              "      <td>0.000000</td>\n",
              "      <td>0.000000</td>\n",
              "      <td>0.000000</td>\n",
              "      <td>0.000000</td>\n",
              "      <td>0.000000</td>\n",
              "      <td>0.000000</td>\n",
              "      <td>0.000000</td>\n",
              "      <td>0.000000</td>\n",
              "      <td>0.000000</td>\n",
              "      <td>0.000000e+00</td>\n",
              "      <td>0.000000</td>\n",
              "      <td>0.00000</td>\n",
              "    </tr>\n",
              "    <tr>\n",
              "      <th>25%</th>\n",
              "      <td>0.000000</td>\n",
              "      <td>0.000000</td>\n",
              "      <td>1.000000</td>\n",
              "      <td>0.000000</td>\n",
              "      <td>0.000000</td>\n",
              "      <td>0.000000</td>\n",
              "      <td>0.000000</td>\n",
              "      <td>0.000000</td>\n",
              "      <td>0.000000</td>\n",
              "      <td>4.200000e+01</td>\n",
              "      <td>61.000000</td>\n",
              "      <td>0.00000</td>\n",
              "    </tr>\n",
              "    <tr>\n",
              "      <th>50%</th>\n",
              "      <td>1.000000</td>\n",
              "      <td>0.000000</td>\n",
              "      <td>1.000000</td>\n",
              "      <td>0.000000</td>\n",
              "      <td>0.000000</td>\n",
              "      <td>0.000000</td>\n",
              "      <td>0.000000</td>\n",
              "      <td>0.000000</td>\n",
              "      <td>9.000000</td>\n",
              "      <td>1.655000e+02</td>\n",
              "      <td>252.000000</td>\n",
              "      <td>0.50000</td>\n",
              "    </tr>\n",
              "    <tr>\n",
              "      <th>75%</th>\n",
              "      <td>1.000000</td>\n",
              "      <td>0.330000</td>\n",
              "      <td>2.000000</td>\n",
              "      <td>0.000000</td>\n",
              "      <td>0.000000</td>\n",
              "      <td>35.000000</td>\n",
              "      <td>0.000000</td>\n",
              "      <td>1.000000</td>\n",
              "      <td>77.000000</td>\n",
              "      <td>6.930000e+02</td>\n",
              "      <td>601.750000</td>\n",
              "      <td>1.00000</td>\n",
              "    </tr>\n",
              "    <tr>\n",
              "      <th>max</th>\n",
              "      <td>1.000000</td>\n",
              "      <td>0.920000</td>\n",
              "      <td>12.000000</td>\n",
              "      <td>1.000000</td>\n",
              "      <td>1.000000</td>\n",
              "      <td>150.000000</td>\n",
              "      <td>1.000000</td>\n",
              "      <td>1.000000</td>\n",
              "      <td>7389.000000</td>\n",
              "      <td>1.533854e+07</td>\n",
              "      <td>7500.000000</td>\n",
              "      <td>1.00000</td>\n",
              "    </tr>\n",
              "  </tbody>\n",
              "</table>\n",
              "</div>\n",
              "    <div class=\"colab-df-buttons\">\n",
              "\n",
              "  <div class=\"colab-df-container\">\n",
              "    <button class=\"colab-df-convert\" onclick=\"convertToInteractive('df-0c34d5e5-3a40-422f-b7f3-beddd3b9d824')\"\n",
              "            title=\"Convert this dataframe to an interactive table.\"\n",
              "            style=\"display:none;\">\n",
              "\n",
              "  <svg xmlns=\"http://www.w3.org/2000/svg\" height=\"24px\" viewBox=\"0 -960 960 960\">\n",
              "    <path d=\"M120-120v-720h720v720H120Zm60-500h600v-160H180v160Zm220 220h160v-160H400v160Zm0 220h160v-160H400v160ZM180-400h160v-160H180v160Zm440 0h160v-160H620v160ZM180-180h160v-160H180v160Zm440 0h160v-160H620v160Z\"/>\n",
              "  </svg>\n",
              "    </button>\n",
              "\n",
              "  <style>\n",
              "    .colab-df-container {\n",
              "      display:flex;\n",
              "      gap: 12px;\n",
              "    }\n",
              "\n",
              "    .colab-df-convert {\n",
              "      background-color: #E8F0FE;\n",
              "      border: none;\n",
              "      border-radius: 50%;\n",
              "      cursor: pointer;\n",
              "      display: none;\n",
              "      fill: #1967D2;\n",
              "      height: 32px;\n",
              "      padding: 0 0 0 0;\n",
              "      width: 32px;\n",
              "    }\n",
              "\n",
              "    .colab-df-convert:hover {\n",
              "      background-color: #E2EBFA;\n",
              "      box-shadow: 0px 1px 2px rgba(60, 64, 67, 0.3), 0px 1px 3px 1px rgba(60, 64, 67, 0.15);\n",
              "      fill: #174EA6;\n",
              "    }\n",
              "\n",
              "    .colab-df-buttons div {\n",
              "      margin-bottom: 4px;\n",
              "    }\n",
              "\n",
              "    [theme=dark] .colab-df-convert {\n",
              "      background-color: #3B4455;\n",
              "      fill: #D2E3FC;\n",
              "    }\n",
              "\n",
              "    [theme=dark] .colab-df-convert:hover {\n",
              "      background-color: #434B5C;\n",
              "      box-shadow: 0px 1px 3px 1px rgba(0, 0, 0, 0.15);\n",
              "      filter: drop-shadow(0px 1px 2px rgba(0, 0, 0, 0.3));\n",
              "      fill: #FFFFFF;\n",
              "    }\n",
              "  </style>\n",
              "\n",
              "    <script>\n",
              "      const buttonEl =\n",
              "        document.querySelector('#df-0c34d5e5-3a40-422f-b7f3-beddd3b9d824 button.colab-df-convert');\n",
              "      buttonEl.style.display =\n",
              "        google.colab.kernel.accessAllowed ? 'block' : 'none';\n",
              "\n",
              "      async function convertToInteractive(key) {\n",
              "        const element = document.querySelector('#df-0c34d5e5-3a40-422f-b7f3-beddd3b9d824');\n",
              "        const dataTable =\n",
              "          await google.colab.kernel.invokeFunction('convertToInteractive',\n",
              "                                                    [key], {});\n",
              "        if (!dataTable) return;\n",
              "\n",
              "        const docLinkHtml = 'Like what you see? Visit the ' +\n",
              "          '<a target=\"_blank\" href=https://colab.research.google.com/notebooks/data_table.ipynb>data table notebook</a>'\n",
              "          + ' to learn more about interactive tables.';\n",
              "        element.innerHTML = '';\n",
              "        dataTable['output_type'] = 'display_data';\n",
              "        await google.colab.output.renderOutput(dataTable, element);\n",
              "        const docLink = document.createElement('div');\n",
              "        docLink.innerHTML = docLinkHtml;\n",
              "        element.appendChild(docLink);\n",
              "      }\n",
              "    </script>\n",
              "  </div>\n",
              "\n",
              "\n",
              "<div id=\"df-2e34c55e-9a90-4155-a3a9-3c8f91069f02\">\n",
              "  <button class=\"colab-df-quickchart\" onclick=\"quickchart('df-2e34c55e-9a90-4155-a3a9-3c8f91069f02')\"\n",
              "            title=\"Suggest charts\"\n",
              "            style=\"display:none;\">\n",
              "\n",
              "<svg xmlns=\"http://www.w3.org/2000/svg\" height=\"24px\"viewBox=\"0 0 24 24\"\n",
              "     width=\"24px\">\n",
              "    <g>\n",
              "        <path d=\"M19 3H5c-1.1 0-2 .9-2 2v14c0 1.1.9 2 2 2h14c1.1 0 2-.9 2-2V5c0-1.1-.9-2-2-2zM9 17H7v-7h2v7zm4 0h-2V7h2v10zm4 0h-2v-4h2v4z\"/>\n",
              "    </g>\n",
              "</svg>\n",
              "  </button>\n",
              "\n",
              "<style>\n",
              "  .colab-df-quickchart {\n",
              "      --bg-color: #E8F0FE;\n",
              "      --fill-color: #1967D2;\n",
              "      --hover-bg-color: #E2EBFA;\n",
              "      --hover-fill-color: #174EA6;\n",
              "      --disabled-fill-color: #AAA;\n",
              "      --disabled-bg-color: #DDD;\n",
              "  }\n",
              "\n",
              "  [theme=dark] .colab-df-quickchart {\n",
              "      --bg-color: #3B4455;\n",
              "      --fill-color: #D2E3FC;\n",
              "      --hover-bg-color: #434B5C;\n",
              "      --hover-fill-color: #FFFFFF;\n",
              "      --disabled-bg-color: #3B4455;\n",
              "      --disabled-fill-color: #666;\n",
              "  }\n",
              "\n",
              "  .colab-df-quickchart {\n",
              "    background-color: var(--bg-color);\n",
              "    border: none;\n",
              "    border-radius: 50%;\n",
              "    cursor: pointer;\n",
              "    display: none;\n",
              "    fill: var(--fill-color);\n",
              "    height: 32px;\n",
              "    padding: 0;\n",
              "    width: 32px;\n",
              "  }\n",
              "\n",
              "  .colab-df-quickchart:hover {\n",
              "    background-color: var(--hover-bg-color);\n",
              "    box-shadow: 0 1px 2px rgba(60, 64, 67, 0.3), 0 1px 3px 1px rgba(60, 64, 67, 0.15);\n",
              "    fill: var(--button-hover-fill-color);\n",
              "  }\n",
              "\n",
              "  .colab-df-quickchart-complete:disabled,\n",
              "  .colab-df-quickchart-complete:disabled:hover {\n",
              "    background-color: var(--disabled-bg-color);\n",
              "    fill: var(--disabled-fill-color);\n",
              "    box-shadow: none;\n",
              "  }\n",
              "\n",
              "  .colab-df-spinner {\n",
              "    border: 2px solid var(--fill-color);\n",
              "    border-color: transparent;\n",
              "    border-bottom-color: var(--fill-color);\n",
              "    animation:\n",
              "      spin 1s steps(1) infinite;\n",
              "  }\n",
              "\n",
              "  @keyframes spin {\n",
              "    0% {\n",
              "      border-color: transparent;\n",
              "      border-bottom-color: var(--fill-color);\n",
              "      border-left-color: var(--fill-color);\n",
              "    }\n",
              "    20% {\n",
              "      border-color: transparent;\n",
              "      border-left-color: var(--fill-color);\n",
              "      border-top-color: var(--fill-color);\n",
              "    }\n",
              "    30% {\n",
              "      border-color: transparent;\n",
              "      border-left-color: var(--fill-color);\n",
              "      border-top-color: var(--fill-color);\n",
              "      border-right-color: var(--fill-color);\n",
              "    }\n",
              "    40% {\n",
              "      border-color: transparent;\n",
              "      border-right-color: var(--fill-color);\n",
              "      border-top-color: var(--fill-color);\n",
              "    }\n",
              "    60% {\n",
              "      border-color: transparent;\n",
              "      border-right-color: var(--fill-color);\n",
              "    }\n",
              "    80% {\n",
              "      border-color: transparent;\n",
              "      border-right-color: var(--fill-color);\n",
              "      border-bottom-color: var(--fill-color);\n",
              "    }\n",
              "    90% {\n",
              "      border-color: transparent;\n",
              "      border-bottom-color: var(--fill-color);\n",
              "    }\n",
              "  }\n",
              "</style>\n",
              "\n",
              "  <script>\n",
              "    async function quickchart(key) {\n",
              "      const quickchartButtonEl =\n",
              "        document.querySelector('#' + key + ' button');\n",
              "      quickchartButtonEl.disabled = true;  // To prevent multiple clicks.\n",
              "      quickchartButtonEl.classList.add('colab-df-spinner');\n",
              "      try {\n",
              "        const charts = await google.colab.kernel.invokeFunction(\n",
              "            'suggestCharts', [key], {});\n",
              "      } catch (error) {\n",
              "        console.error('Error during call to suggestCharts:', error);\n",
              "      }\n",
              "      quickchartButtonEl.classList.remove('colab-df-spinner');\n",
              "      quickchartButtonEl.classList.add('colab-df-quickchart-complete');\n",
              "    }\n",
              "    (() => {\n",
              "      let quickchartButtonEl =\n",
              "        document.querySelector('#df-2e34c55e-9a90-4155-a3a9-3c8f91069f02 button');\n",
              "      quickchartButtonEl.style.display =\n",
              "        google.colab.kernel.accessAllowed ? 'block' : 'none';\n",
              "    })();\n",
              "  </script>\n",
              "</div>\n",
              "\n",
              "    </div>\n",
              "  </div>\n"
            ],
            "application/vnd.google.colaboratory.intrinsic+json": {
              "type": "dataframe",
              "summary": "{\n  \"name\": \"df\",\n  \"rows\": 8,\n  \"fields\": [\n    {\n      \"column\": \"profile pic\",\n      \"properties\": {\n        \"dtype\": \"number\",\n        \"std\": 245.8631674019657,\n        \"min\": 0.0,\n        \"max\": 696.0,\n        \"num_unique_values\": 5,\n        \"samples\": [\n          0.7112068965517241,\n          1.0,\n          0.4535274792098184\n        ],\n        \"semantic_type\": \"\",\n        \"description\": \"\"\n      }\n    },\n    {\n      \"column\": \"nums/length username\",\n      \"properties\": {\n        \"dtype\": \"number\",\n        \"std\": 245.99073936114544,\n        \"min\": 0.0,\n        \"max\": 696.0,\n        \"num_unique_values\": 6,\n        \"samples\": [\n          696.0,\n          0.16660919540229885,\n          0.92\n        ],\n        \"semantic_type\": \"\",\n        \"description\": \"\"\n      }\n    },\n    {\n      \"column\": \"fullname words\",\n      \"properties\": {\n        \"dtype\": \"number\",\n        \"std\": 245.16648314968873,\n        \"min\": 0.0,\n        \"max\": 696.0,\n        \"num_unique_values\": 7,\n        \"samples\": [\n          696.0,\n          1.4755747126436782,\n          2.0\n        ],\n        \"semantic_type\": \"\",\n        \"description\": \"\"\n      }\n    },\n    {\n      \"column\": \"nums/length fullname\",\n      \"properties\": {\n        \"dtype\": \"number\",\n        \"std\": 246.01350472146666,\n        \"min\": 0.0,\n        \"max\": 696.0,\n        \"num_unique_values\": 5,\n        \"samples\": [\n          0.04216954022988506,\n          1.0,\n          0.14366439706669326\n        ],\n        \"semantic_type\": \"\",\n        \"description\": \"\"\n      }\n    },\n    {\n      \"column\": \"name==username\",\n      \"properties\": {\n        \"dtype\": \"number\",\n        \"std\": 246.0116711500515,\n        \"min\": 0.0,\n        \"max\": 696.0,\n        \"num_unique_values\": 5,\n        \"samples\": [\n          0.035919540229885055,\n          1.0,\n          0.1862233960305225\n        ],\n        \"semantic_type\": \"\",\n        \"description\": \"\"\n      }\n    },\n    {\n      \"column\": \"description length\",\n      \"properties\": {\n        \"dtype\": \"number\",\n        \"std\": 238.75293230600755,\n        \"min\": 0.0,\n        \"max\": 696.0,\n        \"num_unique_values\": 6,\n        \"samples\": [\n          696.0,\n          23.41235632183908,\n          150.0\n        ],\n        \"semantic_type\": \"\",\n        \"description\": \"\"\n      }\n    },\n    {\n      \"column\": \"external URL\",\n      \"properties\": {\n        \"dtype\": \"number\",\n        \"std\": 246.00112469665754,\n        \"min\": 0.0,\n        \"max\": 696.0,\n        \"num_unique_values\": 5,\n        \"samples\": [\n          0.11350574712643678,\n          1.0,\n          0.3174381398458502\n        ],\n        \"semantic_type\": \"\",\n        \"description\": \"\"\n      }\n    },\n    {\n      \"column\": \"private\",\n      \"properties\": {\n        \"dtype\": \"number\",\n        \"std\": 245.92945256642787,\n        \"min\": 0.0,\n        \"max\": 696.0,\n        \"num_unique_values\": 5,\n        \"samples\": [\n          0.3692528735632184,\n          1.0,\n          0.48294958775039604\n        ],\n        \"semantic_type\": \"\",\n        \"description\": \"\"\n      }\n    },\n    {\n      \"column\": \"#posts\",\n      \"properties\": {\n        \"dtype\": \"number\",\n        \"std\": 2560.233929496282,\n        \"min\": 0.0,\n        \"max\": 7389.0,\n        \"num_unique_values\": 7,\n        \"samples\": [\n          696.0,\n          103.24425287356321,\n          77.0\n        ],\n        \"semantic_type\": \"\",\n        \"description\": \"\"\n      }\n    },\n    {\n      \"column\": \"#followers\",\n      \"properties\": {\n        \"dtype\": \"number\",\n        \"std\": 5384238.817955118,\n        \"min\": 0.0,\n        \"max\": 15338538.0,\n        \"num_unique_values\": 8,\n        \"samples\": [\n          79149.9051724138,\n          165.5,\n          696.0\n        ],\n        \"semantic_type\": \"\",\n        \"description\": \"\"\n      }\n    },\n    {\n      \"column\": \"#follows\",\n      \"properties\": {\n        \"dtype\": \"number\",\n        \"std\": 2513.864618655213,\n        \"min\": 0.0,\n        \"max\": 7500.0,\n        \"num_unique_values\": 8,\n        \"samples\": [\n          555.0862068965517,\n          252.0,\n          696.0\n        ],\n        \"semantic_type\": \"\",\n        \"description\": \"\"\n      }\n    },\n    {\n      \"column\": \"fake\",\n      \"properties\": {\n        \"dtype\": \"number\",\n        \"std\": 245.89665547822295,\n        \"min\": 0.0,\n        \"max\": 696.0,\n        \"num_unique_values\": 5,\n        \"samples\": [\n          0.5,\n          1.0,\n          0.500359582930332\n        ],\n        \"semantic_type\": \"\",\n        \"description\": \"\"\n      }\n    }\n  ]\n}"
            }
          },
          "metadata": {},
          "execution_count": 13
        }
      ]
    },
    {
      "cell_type": "code",
      "source": [
        "# correlation between features\n",
        "plt.figure(figsize=(10,10))\n",
        "sns.heatmap(df.corr(), annot=True, cmap='coolwarm')\n",
        "\n",
        "plt.show()"
      ],
      "metadata": {
        "colab": {
          "base_uri": "https://localhost:8080/",
          "height": 982
        },
        "id": "AguIqHE77KJK",
        "outputId": "c2d20f2a-3433-4286-ce41-a69a92d1791c"
      },
      "execution_count": null,
      "outputs": [
        {
          "output_type": "display_data",
          "data": {
            "text/plain": [
              "<Figure size 1000x1000 with 2 Axes>"
            ],
            "image/png": "[encoded data removed]"
          },
          "metadata": {}
        }
      ]
    },
    {
      "cell_type": "code",
      "source": [
        "df.info()"
      ],
      "metadata": {
        "colab": {
          "base_uri": "https://localhost:8080/"
        },
        "id": "Ui2aXg-G-Sp-",
        "outputId": "ca5c3a42-cc6a-40a8-f261-3b7be8b4eaa5"
      },
      "execution_count": null,
      "outputs": [
        {
          "output_type": "stream",
          "name": "stdout",
          "text": [
            "<class 'pandas.core.frame.DataFrame'>\n",
            "RangeIndex: 696 entries, 0 to 695\n",
            "Data columns (total 12 columns):\n",
            " #   Column                Non-Null Count  Dtype  \n",
            "---  ------                --------------  -----  \n",
            " 0   profile pic           696 non-null    int64  \n",
            " 1   nums/length username  696 non-null    float64\n",
            " 2   fullname words        696 non-null    int64  \n",
            " 3   nums/length fullname  696 non-null    float64\n",
            " 4   name==username        696 non-null    int64  \n",
            " 5   description length    696 non-null    int64  \n",
            " 6   external URL          696 non-null    int64  \n",
            " 7   private               696 non-null    int64  \n",
            " 8   #posts                696 non-null    int64  \n",
            " 9   #followers            696 non-null    int64  \n",
            " 10  #follows              696 non-null    int64  \n",
            " 11  fake                  696 non-null    int64  \n",
            "dtypes: float64(2), int64(10)\n",
            "memory usage: 65.4 KB\n"
          ]
        }
      ]
    },
    {
      "cell_type": "markdown",
      "source": [
        "#Preprocessing"
      ],
      "metadata": {
        "id": "Xfgp7KI68vvW"
      }
    },
    {
      "cell_type": "code",
      "source": [
        "# Check  the missing values\n",
        "\n",
        "percent_missing = df.isnull().sum() * 100 / len(df)\n",
        "missing_value_df = pd.DataFrame({'percent_missing (%)': percent_missing})\n",
        "missing_value_df.sort_values('percent_missing (%)', ascending=False)"
      ],
      "metadata": {
        "colab": {
          "base_uri": "https://localhost:8080/",
          "height": 425
        },
        "id": "z2f-WMjk8eq4",
        "outputId": "f5882a62-862a-45e0-fa6c-bbe2e51225dc"
      },
      "execution_count": null,
      "outputs": [
        {
          "output_type": "execute_result",
          "data": {
            "text/plain": [
              "                      percent_missing (%)\n",
              "profile pic                           0.0\n",
              "nums/length username                  0.0\n",
              "fullname words                        0.0\n",
              "nums/length fullname                  0.0\n",
              "name==username                        0.0\n",
              "description length                    0.0\n",
              "external URL                          0.0\n",
              "private                               0.0\n",
              "#posts                                0.0\n",
              "#followers                            0.0\n",
              "#follows                              0.0\n",
              "fake                                  0.0"
            ],
            "text/html": [
              "\n",
              "  <div id=\"df-2df14767-5474-4ad3-903a-13b92a85105f\" class=\"colab-df-container\">\n",
              "    <div>\n",
              "<style scoped>\n",
              "    .dataframe tbody tr th:only-of-type {\n",
              "        vertical-align: middle;\n",
              "    }\n",
              "\n",
              "    .dataframe tbody tr th {\n",
              "        vertical-align: top;\n",
              "    }\n",
              "\n",
              "    .dataframe thead th {\n",
              "        text-align: right;\n",
              "    }\n",
              "</style>\n",
              "<table border=\"1\" class=\"dataframe\">\n",
              "  <thead>\n",
              "    <tr style=\"text-align: right;\">\n",
              "      <th></th>\n",
              "      <th>percent_missing (%)</th>\n",
              "    </tr>\n",
              "  </thead>\n",
              "  <tbody>\n",
              "    <tr>\n",
              "      <th>profile pic</th>\n",
              "      <td>0.0</td>\n",
              "    </tr>\n",
              "    <tr>\n",
              "      <th>nums/length username</th>\n",
              "      <td>0.0</td>\n",
              "    </tr>\n",
              "    <tr>\n",
              "      <th>fullname words</th>\n",
              "      <td>0.0</td>\n",
              "    </tr>\n",
              "    <tr>\n",
              "      <th>nums/length fullname</th>\n",
              "      <td>0.0</td>\n",
              "    </tr>\n",
              "    <tr>\n",
              "      <th>name==username</th>\n",
              "      <td>0.0</td>\n",
              "    </tr>\n",
              "    <tr>\n",
              "      <th>description length</th>\n",
              "      <td>0.0</td>\n",
              "    </tr>\n",
              "    <tr>\n",
              "      <th>external URL</th>\n",
              "      <td>0.0</td>\n",
              "    </tr>\n",
              "    <tr>\n",
              "      <th>private</th>\n",
              "      <td>0.0</td>\n",
              "    </tr>\n",
              "    <tr>\n",
              "      <th>#posts</th>\n",
              "      <td>0.0</td>\n",
              "    </tr>\n",
              "    <tr>\n",
              "      <th>#followers</th>\n",
              "      <td>0.0</td>\n",
              "    </tr>\n",
              "    <tr>\n",
              "      <th>#follows</th>\n",
              "      <td>0.0</td>\n",
              "    </tr>\n",
              "    <tr>\n",
              "      <th>fake</th>\n",
              "      <td>0.0</td>\n",
              "    </tr>\n",
              "  </tbody>\n",
              "</table>\n",
              "</div>\n",
              "    <div class=\"colab-df-buttons\">\n",
              "\n",
              "  <div class=\"colab-df-container\">\n",
              "    <button class=\"colab-df-convert\" onclick=\"convertToInteractive('df-2df14767-5474-4ad3-903a-13b92a85105f')\"\n",
              "            title=\"Convert this dataframe to an interactive table.\"\n",
              "            style=\"display:none;\">\n",
              "\n",
              "  <svg xmlns=\"http://www.w3.org/2000/svg\" height=\"24px\" viewBox=\"0 -960 960 960\">\n",
              "    <path d=\"M120-120v-720h720v720H120Zm60-500h600v-160H180v160Zm220 220h160v-160H400v160Zm0 220h160v-160H400v160ZM180-400h160v-160H180v160Zm440 0h160v-160H620v160ZM180-180h160v-160H180v160Zm440 0h160v-160H620v160Z\"/>\n",
              "  </svg>\n",
              "    </button>\n",
              "\n",
              "  <style>\n",
              "    .colab-df-container {\n",
              "      display:flex;\n",
              "      gap: 12px;\n",
              "    }\n",
              "\n",
              "    .colab-df-convert {\n",
              "      background-color: #E8F0FE;\n",
              "      border: none;\n",
              "      border-radius: 50%;\n",
              "      cursor: pointer;\n",
              "      display: none;\n",
              "      fill: #1967D2;\n",
              "      height: 32px;\n",
              "      padding: 0 0 0 0;\n",
              "      width: 32px;\n",
              "    }\n",
              "\n",
              "    .colab-df-convert:hover {\n",
              "      background-color: #E2EBFA;\n",
              "      box-shadow: 0px 1px 2px rgba(60, 64, 67, 0.3), 0px 1px 3px 1px rgba(60, 64, 67, 0.15);\n",
              "      fill: #174EA6;\n",
              "    }\n",
              "\n",
              "    .colab-df-buttons div {\n",
              "      margin-bottom: 4px;\n",
              "    }\n",
              "\n",
              "    [theme=dark] .colab-df-convert {\n",
              "      background-color: #3B4455;\n",
              "      fill: #D2E3FC;\n",
              "    }\n",
              "\n",
              "    [theme=dark] .colab-df-convert:hover {\n",
              "      background-color: #434B5C;\n",
              "      box-shadow: 0px 1px 3px 1px rgba(0, 0, 0, 0.15);\n",
              "      filter: drop-shadow(0px 1px 2px rgba(0, 0, 0, 0.3));\n",
              "      fill: #FFFFFF;\n",
              "    }\n",
              "  </style>\n",
              "\n",
              "    <script>\n",
              "      const buttonEl =\n",
              "        document.querySelector('#df-2df14767-5474-4ad3-903a-13b92a85105f button.colab-df-convert');\n",
              "      buttonEl.style.display =\n",
              "        google.colab.kernel.accessAllowed ? 'block' : 'none';\n",
              "\n",
              "      async function convertToInteractive(key) {\n",
              "        const element = document.querySelector('#df-2df14767-5474-4ad3-903a-13b92a85105f');\n",
              "        const dataTable =\n",
              "          await google.colab.kernel.invokeFunction('convertToInteractive',\n",
              "                                                    [key], {});\n",
              "        if (!dataTable) return;\n",
              "\n",
              "        const docLinkHtml = 'Like what you see? Visit the ' +\n",
              "          '<a target=\"_blank\" href=https://colab.research.google.com/notebooks/data_table.ipynb>data table notebook</a>'\n",
              "          + ' to learn more about interactive tables.';\n",
              "        element.innerHTML = '';\n",
              "        dataTable['output_type'] = 'display_data';\n",
              "        await google.colab.output.renderOutput(dataTable, element);\n",
              "        const docLink = document.createElement('div');\n",
              "        docLink.innerHTML = docLinkHtml;\n",
              "        element.appendChild(docLink);\n",
              "      }\n",
              "    </script>\n",
              "  </div>\n",
              "\n",
              "\n",
              "<div id=\"df-e08796a6-4cb2-479f-af92-5ae82493dcdf\">\n",
              "  <button class=\"colab-df-quickchart\" onclick=\"quickchart('df-e08796a6-4cb2-479f-af92-5ae82493dcdf')\"\n",
              "            title=\"Suggest charts\"\n",
              "            style=\"display:none;\">\n",
              "\n",
              "<svg xmlns=\"http://www.w3.org/2000/svg\" height=\"24px\"viewBox=\"0 0 24 24\"\n",
              "     width=\"24px\">\n",
              "    <g>\n",
              "        <path d=\"M19 3H5c-1.1 0-2 .9-2 2v14c0 1.1.9 2 2 2h14c1.1 0 2-.9 2-2V5c0-1.1-.9-2-2-2zM9 17H7v-7h2v7zm4 0h-2V7h2v10zm4 0h-2v-4h2v4z\"/>\n",
              "    </g>\n",
              "</svg>\n",
              "  </button>\n",
              "\n",
              "<style>\n",
              "  .colab-df-quickchart {\n",
              "      --bg-color: #E8F0FE;\n",
              "      --fill-color: #1967D2;\n",
              "      --hover-bg-color: #E2EBFA;\n",
              "      --hover-fill-color: #174EA6;\n",
              "      --disabled-fill-color: #AAA;\n",
              "      --disabled-bg-color: #DDD;\n",
              "  }\n",
              "\n",
              "  [theme=dark] .colab-df-quickchart {\n",
              "      --bg-color: #3B4455;\n",
              "      --fill-color: #D2E3FC;\n",
              "      --hover-bg-color: #434B5C;\n",
              "      --hover-fill-color: #FFFFFF;\n",
              "      --disabled-bg-color: #3B4455;\n",
              "      --disabled-fill-color: #666;\n",
              "  }\n",
              "\n",
              "  .colab-df-quickchart {\n",
              "    background-color: var(--bg-color);\n",
              "    border: none;\n",
              "    border-radius: 50%;\n",
              "    cursor: pointer;\n",
              "    display: none;\n",
              "    fill: var(--fill-color);\n",
              "    height: 32px;\n",
              "    padding: 0;\n",
              "    width: 32px;\n",
              "  }\n",
              "\n",
              "  .colab-df-quickchart:hover {\n",
              "    background-color: var(--hover-bg-color);\n",
              "    box-shadow: 0 1px 2px rgba(60, 64, 67, 0.3), 0 1px 3px 1px rgba(60, 64, 67, 0.15);\n",
              "    fill: var(--button-hover-fill-color);\n",
              "  }\n",
              "\n",
              "  .colab-df-quickchart-complete:disabled,\n",
              "  .colab-df-quickchart-complete:disabled:hover {\n",
              "    background-color: var(--disabled-bg-color);\n",
              "    fill: var(--disabled-fill-color);\n",
              "    box-shadow: none;\n",
              "  }\n",
              "\n",
              "  .colab-df-spinner {\n",
              "    border: 2px solid var(--fill-color);\n",
              "    border-color: transparent;\n",
              "    border-bottom-color: var(--fill-color);\n",
              "    animation:\n",
              "      spin 1s steps(1) infinite;\n",
              "  }\n",
              "\n",
              "  @keyframes spin {\n",
              "    0% {\n",
              "      border-color: transparent;\n",
              "      border-bottom-color: var(--fill-color);\n",
              "      border-left-color: var(--fill-color);\n",
              "    }\n",
              "    20% {\n",
              "      border-color: transparent;\n",
              "      border-left-color: var(--fill-color);\n",
              "      border-top-color: var(--fill-color);\n",
              "    }\n",
              "    30% {\n",
              "      border-color: transparent;\n",
              "      border-left-color: var(--fill-color);\n",
              "      border-top-color: var(--fill-color);\n",
              "      border-right-color: var(--fill-color);\n",
              "    }\n",
              "    40% {\n",
              "      border-color: transparent;\n",
              "      border-right-color: var(--fill-color);\n",
              "      border-top-color: var(--fill-color);\n",
              "    }\n",
              "    60% {\n",
              "      border-color: transparent;\n",
              "      border-right-color: var(--fill-color);\n",
              "    }\n",
              "    80% {\n",
              "      border-color: transparent;\n",
              "      border-right-color: var(--fill-color);\n",
              "      border-bottom-color: var(--fill-color);\n",
              "    }\n",
              "    90% {\n",
              "      border-color: transparent;\n",
              "      border-bottom-color: var(--fill-color);\n",
              "    }\n",
              "  }\n",
              "</style>\n",
              "\n",
              "  <script>\n",
              "    async function quickchart(key) {\n",
              "      const quickchartButtonEl =\n",
              "        document.querySelector('#' + key + ' button');\n",
              "      quickchartButtonEl.disabled = true;  // To prevent multiple clicks.\n",
              "      quickchartButtonEl.classList.add('colab-df-spinner');\n",
              "      try {\n",
              "        const charts = await google.colab.kernel.invokeFunction(\n",
              "            'suggestCharts', [key], {});\n",
              "      } catch (error) {\n",
              "        console.error('Error during call to suggestCharts:', error);\n",
              "      }\n",
              "      quickchartButtonEl.classList.remove('colab-df-spinner');\n",
              "      quickchartButtonEl.classList.add('colab-df-quickchart-complete');\n",
              "    }\n",
              "    (() => {\n",
              "      let quickchartButtonEl =\n",
              "        document.querySelector('#df-e08796a6-4cb2-479f-af92-5ae82493dcdf button');\n",
              "      quickchartButtonEl.style.display =\n",
              "        google.colab.kernel.accessAllowed ? 'block' : 'none';\n",
              "    })();\n",
              "  </script>\n",
              "</div>\n",
              "\n",
              "    </div>\n",
              "  </div>\n"
            ],
            "application/vnd.google.colaboratory.intrinsic+json": {
              "type": "dataframe",
              "summary": "{\n  \"name\": \"missing_value_df\",\n  \"rows\": 12,\n  \"fields\": [\n    {\n      \"column\": \"percent_missing (%)\",\n      \"properties\": {\n        \"dtype\": \"number\",\n        \"std\": 0.0,\n        \"min\": 0.0,\n        \"max\": 0.0,\n        \"num_unique_values\": 1,\n        \"samples\": [\n          0.0\n        ],\n        \"semantic_type\": \"\",\n        \"description\": \"\"\n      }\n    }\n  ]\n}"
            }
          },
          "metadata": {},
          "execution_count": 16
        }
      ]
    },
    {
      "cell_type": "code",
      "source": [
        "# check nan values\n",
        "df.isna().any()"
      ],
      "metadata": {
        "colab": {
          "base_uri": "https://localhost:8080/"
        },
        "id": "BqtjJg3d86yr",
        "outputId": "abb3f735-ce79-41a1-e29c-9f030935781a"
      },
      "execution_count": null,
      "outputs": [
        {
          "output_type": "execute_result",
          "data": {
            "text/plain": [
              "profile pic             False\n",
              "nums/length username    False\n",
              "fullname words          False\n",
              "nums/length fullname    False\n",
              "name==username          False\n",
              "description length      False\n",
              "external URL            False\n",
              "private                 False\n",
              "#posts                  False\n",
              "#followers              False\n",
              "#follows                False\n",
              "fake                    False\n",
              "dtype: bool"
            ]
          },
          "metadata": {},
          "execution_count": 17
        }
      ]
    },
    {
      "cell_type": "code",
      "source": [
        "# check  duplicated rows\n",
        "df_duplicated = df[df.duplicated(keep=False)]\n",
        "df_duplicated"
      ],
      "metadata": {
        "colab": {
          "base_uri": "https://localhost:8080/",
          "height": 317
        },
        "id": "f3IFjpNV9H0i",
        "outputId": "5b699f8b-e22f-4d6f-9923-aedf50c53170"
      },
      "execution_count": null,
      "outputs": [
        {
          "output_type": "execute_result",
          "data": {
            "text/plain": [
              "     profile pic  nums/length username  fullname words  nums/length fullname  \\\n",
              "196            1                  0.00               2                   0.0   \n",
              "197            1                  0.00               2                   0.0   \n",
              "491            1                  0.91               1                   0.0   \n",
              "525            1                  0.91               1                   0.0   \n",
              "637            1                  0.27               1                   0.0   \n",
              "639            0                  0.00               1                   0.0   \n",
              "643            0                  0.00               1                   0.0   \n",
              "659            1                  0.27               1                   0.0   \n",
              "\n",
              "     name==username  description length  external URL  private  #posts  \\\n",
              "196               0                  48             0        0     222   \n",
              "197               0                  48             0        0     222   \n",
              "491               0                   0             0        0       0   \n",
              "525               0                   0             0        0       0   \n",
              "637               0                   0             0        0       0   \n",
              "639               1                   0             0        0       0   \n",
              "643               1                   0             0        0       0   \n",
              "659               0                   0             0        0       0   \n",
              "\n",
              "     #followers  #follows  fake  \n",
              "196        5282       652     0  \n",
              "197        5282       652     0  \n",
              "491          75        26     1  \n",
              "525          75        26     1  \n",
              "637          45        64     1  \n",
              "639          69       694     1  \n",
              "643          69       694     1  \n",
              "659          45        64     1  "
            ],
            "text/html": [
              "\n",
              "  <div id=\"df-1436f898-215d-4757-8227-668a98af0571\" class=\"colab-df-container\">\n",
              "    <div>\n",
              "<style scoped>\n",
              "    .dataframe tbody tr th:only-of-type {\n",
              "        vertical-align: middle;\n",
              "    }\n",
              "\n",
              "    .dataframe tbody tr th {\n",
              "        vertical-align: top;\n",
              "    }\n",
              "\n",
              "    .dataframe thead th {\n",
              "        text-align: right;\n",
              "    }\n",
              "</style>\n",
              "<table border=\"1\" class=\"dataframe\">\n",
              "  <thead>\n",
              "    <tr style=\"text-align: right;\">\n",
              "      <th></th>\n",
              "      <th>profile pic</th>\n",
              "      <th>nums/length username</th>\n",
              "      <th>fullname words</th>\n",
              "      <th>nums/length fullname</th>\n",
              "      <th>name==username</th>\n",
              "      <th>description length</th>\n",
              "      <th>external URL</th>\n",
              "      <th>private</th>\n",
              "      <th>#posts</th>\n",
              "      <th>#followers</th>\n",
              "      <th>#follows</th>\n",
              "      <th>fake</th>\n",
              "    </tr>\n",
              "  </thead>\n",
              "  <tbody>\n",
              "    <tr>\n",
              "      <th>196</th>\n",
              "      <td>1</td>\n",
              "      <td>0.00</td>\n",
              "      <td>2</td>\n",
              "      <td>0.0</td>\n",
              "      <td>0</td>\n",
              "      <td>48</td>\n",
              "      <td>0</td>\n",
              "      <td>0</td>\n",
              "      <td>222</td>\n",
              "      <td>5282</td>\n",
              "      <td>652</td>\n",
              "      <td>0</td>\n",
              "    </tr>\n",
              "    <tr>\n",
              "      <th>197</th>\n",
              "      <td>1</td>\n",
              "      <td>0.00</td>\n",
              "      <td>2</td>\n",
              "      <td>0.0</td>\n",
              "      <td>0</td>\n",
              "      <td>48</td>\n",
              "      <td>0</td>\n",
              "      <td>0</td>\n",
              "      <td>222</td>\n",
              "      <td>5282</td>\n",
              "      <td>652</td>\n",
              "      <td>0</td>\n",
              "    </tr>\n",
              "    <tr>\n",
              "      <th>491</th>\n",
              "      <td>1</td>\n",
              "      <td>0.91</td>\n",
              "      <td>1</td>\n",
              "      <td>0.0</td>\n",
              "      <td>0</td>\n",
              "      <td>0</td>\n",
              "      <td>0</td>\n",
              "      <td>0</td>\n",
              "      <td>0</td>\n",
              "      <td>75</td>\n",
              "      <td>26</td>\n",
              "      <td>1</td>\n",
              "    </tr>\n",
              "    <tr>\n",
              "      <th>525</th>\n",
              "      <td>1</td>\n",
              "      <td>0.91</td>\n",
              "      <td>1</td>\n",
              "      <td>0.0</td>\n",
              "      <td>0</td>\n",
              "      <td>0</td>\n",
              "      <td>0</td>\n",
              "      <td>0</td>\n",
              "      <td>0</td>\n",
              "      <td>75</td>\n",
              "      <td>26</td>\n",
              "      <td>1</td>\n",
              "    </tr>\n",
              "    <tr>\n",
              "      <th>637</th>\n",
              "      <td>1</td>\n",
              "      <td>0.27</td>\n",
              "      <td>1</td>\n",
              "      <td>0.0</td>\n",
              "      <td>0</td>\n",
              "      <td>0</td>\n",
              "      <td>0</td>\n",
              "      <td>0</td>\n",
              "      <td>0</td>\n",
              "      <td>45</td>\n",
              "      <td>64</td>\n",
              "      <td>1</td>\n",
              "    </tr>\n",
              "    <tr>\n",
              "      <th>639</th>\n",
              "      <td>0</td>\n",
              "      <td>0.00</td>\n",
              "      <td>1</td>\n",
              "      <td>0.0</td>\n",
              "      <td>1</td>\n",
              "      <td>0</td>\n",
              "      <td>0</td>\n",
              "      <td>0</td>\n",
              "      <td>0</td>\n",
              "      <td>69</td>\n",
              "      <td>694</td>\n",
              "      <td>1</td>\n",
              "    </tr>\n",
              "    <tr>\n",
              "      <th>643</th>\n",
              "      <td>0</td>\n",
              "      <td>0.00</td>\n",
              "      <td>1</td>\n",
              "      <td>0.0</td>\n",
              "      <td>1</td>\n",
              "      <td>0</td>\n",
              "      <td>0</td>\n",
              "      <td>0</td>\n",
              "      <td>0</td>\n",
              "      <td>69</td>\n",
              "      <td>694</td>\n",
              "      <td>1</td>\n",
              "    </tr>\n",
              "    <tr>\n",
              "      <th>659</th>\n",
              "      <td>1</td>\n",
              "      <td>0.27</td>\n",
              "      <td>1</td>\n",
              "      <td>0.0</td>\n",
              "      <td>0</td>\n",
              "      <td>0</td>\n",
              "      <td>0</td>\n",
              "      <td>0</td>\n",
              "      <td>0</td>\n",
              "      <td>45</td>\n",
              "      <td>64</td>\n",
              "      <td>1</td>\n",
              "    </tr>\n",
              "  </tbody>\n",
              "</table>\n",
              "</div>\n",
              "    <div class=\"colab-df-buttons\">\n",
              "\n",
              "  <div class=\"colab-df-container\">\n",
              "    <button class=\"colab-df-convert\" onclick=\"convertToInteractive('df-1436f898-215d-4757-8227-668a98af0571')\"\n",
              "            title=\"Convert this dataframe to an interactive table.\"\n",
              "            style=\"display:none;\">\n",
              "\n",
              "  <svg xmlns=\"http://www.w3.org/2000/svg\" height=\"24px\" viewBox=\"0 -960 960 960\">\n",
              "    <path d=\"M120-120v-720h720v720H120Zm60-500h600v-160H180v160Zm220 220h160v-160H400v160Zm0 220h160v-160H400v160ZM180-400h160v-160H180v160Zm440 0h160v-160H620v160ZM180-180h160v-160H180v160Zm440 0h160v-160H620v160Z\"/>\n",
              "  </svg>\n",
              "    </button>\n",
              "\n",
              "  <style>\n",
              "    .colab-df-container {\n",
              "      display:flex;\n",
              "      gap: 12px;\n",
              "    }\n",
              "\n",
              "    .colab-df-convert {\n",
              "      background-color: #E8F0FE;\n",
              "      border: none;\n",
              "      border-radius: 50%;\n",
              "      cursor: pointer;\n",
              "      display: none;\n",
              "      fill: #1967D2;\n",
              "      height: 32px;\n",
              "      padding: 0 0 0 0;\n",
              "      width: 32px;\n",
              "    }\n",
              "\n",
              "    .colab-df-convert:hover {\n",
              "      background-color: #E2EBFA;\n",
              "      box-shadow: 0px 1px 2px rgba(60, 64, 67, 0.3), 0px 1px 3px 1px rgba(60, 64, 67, 0.15);\n",
              "      fill: #174EA6;\n",
              "    }\n",
              "\n",
              "    .colab-df-buttons div {\n",
              "      margin-bottom: 4px;\n",
              "    }\n",
              "\n",
              "    [theme=dark] .colab-df-convert {\n",
              "      background-color: #3B4455;\n",
              "      fill: #D2E3FC;\n",
              "    }\n",
              "\n",
              "    [theme=dark] .colab-df-convert:hover {\n",
              "      background-color: #434B5C;\n",
              "      box-shadow: 0px 1px 3px 1px rgba(0, 0, 0, 0.15);\n",
              "      filter: drop-shadow(0px 1px 2px rgba(0, 0, 0, 0.3));\n",
              "      fill: #FFFFFF;\n",
              "    }\n",
              "  </style>\n",
              "\n",
              "    <script>\n",
              "      const buttonEl =\n",
              "        document.querySelector('#df-1436f898-215d-4757-8227-668a98af0571 button.colab-df-convert');\n",
              "      buttonEl.style.display =\n",
              "        google.colab.kernel.accessAllowed ? 'block' : 'none';\n",
              "\n",
              "      async function convertToInteractive(key) {\n",
              "        const element = document.querySelector('#df-1436f898-215d-4757-8227-668a98af0571');\n",
              "        const dataTable =\n",
              "          await google.colab.kernel.invokeFunction('convertToInteractive',\n",
              "                                                    [key], {});\n",
              "        if (!dataTable) return;\n",
              "\n",
              "        const docLinkHtml = 'Like what you see? Visit the ' +\n",
              "          '<a target=\"_blank\" href=https://colab.research.google.com/notebooks/data_table.ipynb>data table notebook</a>'\n",
              "          + ' to learn more about interactive tables.';\n",
              "        element.innerHTML = '';\n",
              "        dataTable['output_type'] = 'display_data';\n",
              "        await google.colab.output.renderOutput(dataTable, element);\n",
              "        const docLink = document.createElement('div');\n",
              "        docLink.innerHTML = docLinkHtml;\n",
              "        element.appendChild(docLink);\n",
              "      }\n",
              "    </script>\n",
              "  </div>\n",
              "\n",
              "\n",
              "<div id=\"df-68872204-918e-4b23-a415-8f32522ae225\">\n",
              "  <button class=\"colab-df-quickchart\" onclick=\"quickchart('df-68872204-918e-4b23-a415-8f32522ae225')\"\n",
              "            title=\"Suggest charts\"\n",
              "            style=\"display:none;\">\n",
              "\n",
              "<svg xmlns=\"http://www.w3.org/2000/svg\" height=\"24px\"viewBox=\"0 0 24 24\"\n",
              "     width=\"24px\">\n",
              "    <g>\n",
              "        <path d=\"M19 3H5c-1.1 0-2 .9-2 2v14c0 1.1.9 2 2 2h14c1.1 0 2-.9 2-2V5c0-1.1-.9-2-2-2zM9 17H7v-7h2v7zm4 0h-2V7h2v10zm4 0h-2v-4h2v4z\"/>\n",
              "    </g>\n",
              "</svg>\n",
              "  </button>\n",
              "\n",
              "<style>\n",
              "  .colab-df-quickchart {\n",
              "      --bg-color: #E8F0FE;\n",
              "      --fill-color: #1967D2;\n",
              "      --hover-bg-color: #E2EBFA;\n",
              "      --hover-fill-color: #174EA6;\n",
              "      --disabled-fill-color: #AAA;\n",
              "      --disabled-bg-color: #DDD;\n",
              "  }\n",
              "\n",
              "  [theme=dark] .colab-df-quickchart {\n",
              "      --bg-color: #3B4455;\n",
              "      --fill-color: #D2E3FC;\n",
              "      --hover-bg-color: #434B5C;\n",
              "      --hover-fill-color: #FFFFFF;\n",
              "      --disabled-bg-color: #3B4455;\n",
              "      --disabled-fill-color: #666;\n",
              "  }\n",
              "\n",
              "  .colab-df-quickchart {\n",
              "    background-color: var(--bg-color);\n",
              "    border: none;\n",
              "    border-radius: 50%;\n",
              "    cursor: pointer;\n",
              "    display: none;\n",
              "    fill: var(--fill-color);\n",
              "    height: 32px;\n",
              "    padding: 0;\n",
              "    width: 32px;\n",
              "  }\n",
              "\n",
              "  .colab-df-quickchart:hover {\n",
              "    background-color: var(--hover-bg-color);\n",
              "    box-shadow: 0 1px 2px rgba(60, 64, 67, 0.3), 0 1px 3px 1px rgba(60, 64, 67, 0.15);\n",
              "    fill: var(--button-hover-fill-color);\n",
              "  }\n",
              "\n",
              "  .colab-df-quickchart-complete:disabled,\n",
              "  .colab-df-quickchart-complete:disabled:hover {\n",
              "    background-color: var(--disabled-bg-color);\n",
              "    fill: var(--disabled-fill-color);\n",
              "    box-shadow: none;\n",
              "  }\n",
              "\n",
              "  .colab-df-spinner {\n",
              "    border: 2px solid var(--fill-color);\n",
              "    border-color: transparent;\n",
              "    border-bottom-color: var(--fill-color);\n",
              "    animation:\n",
              "      spin 1s steps(1) infinite;\n",
              "  }\n",
              "\n",
              "  @keyframes spin {\n",
              "    0% {\n",
              "      border-color: transparent;\n",
              "      border-bottom-color: var(--fill-color);\n",
              "      border-left-color: var(--fill-color);\n",
              "    }\n",
              "    20% {\n",
              "      border-color: transparent;\n",
              "      border-left-color: var(--fill-color);\n",
              "      border-top-color: var(--fill-color);\n",
              "    }\n",
              "    30% {\n",
              "      border-color: transparent;\n",
              "      border-left-color: var(--fill-color);\n",
              "      border-top-color: var(--fill-color);\n",
              "      border-right-color: var(--fill-color);\n",
              "    }\n",
              "    40% {\n",
              "      border-color: transparent;\n",
              "      border-right-color: var(--fill-color);\n",
              "      border-top-color: var(--fill-color);\n",
              "    }\n",
              "    60% {\n",
              "      border-color: transparent;\n",
              "      border-right-color: var(--fill-color);\n",
              "    }\n",
              "    80% {\n",
              "      border-color: transparent;\n",
              "      border-right-color: var(--fill-color);\n",
              "      border-bottom-color: var(--fill-color);\n",
              "    }\n",
              "    90% {\n",
              "      border-color: transparent;\n",
              "      border-bottom-color: var(--fill-color);\n",
              "    }\n",
              "  }\n",
              "</style>\n",
              "\n",
              "  <script>\n",
              "    async function quickchart(key) {\n",
              "      const quickchartButtonEl =\n",
              "        document.querySelector('#' + key + ' button');\n",
              "      quickchartButtonEl.disabled = true;  // To prevent multiple clicks.\n",
              "      quickchartButtonEl.classList.add('colab-df-spinner');\n",
              "      try {\n",
              "        const charts = await google.colab.kernel.invokeFunction(\n",
              "            'suggestCharts', [key], {});\n",
              "      } catch (error) {\n",
              "        console.error('Error during call to suggestCharts:', error);\n",
              "      }\n",
              "      quickchartButtonEl.classList.remove('colab-df-spinner');\n",
              "      quickchartButtonEl.classList.add('colab-df-quickchart-complete');\n",
              "    }\n",
              "    (() => {\n",
              "      let quickchartButtonEl =\n",
              "        document.querySelector('#df-68872204-918e-4b23-a415-8f32522ae225 button');\n",
              "      quickchartButtonEl.style.display =\n",
              "        google.colab.kernel.accessAllowed ? 'block' : 'none';\n",
              "    })();\n",
              "  </script>\n",
              "</div>\n",
              "\n",
              "  <div id=\"id_2118751d-d4a2-4cac-9864-4cfd0166b68f\">\n",
              "    <style>\n",
              "      .colab-df-generate {\n",
              "        background-color: #E8F0FE;\n",
              "        border: none;\n",
              "        border-radius: 50%;\n",
              "        cursor: pointer;\n",
              "        display: none;\n",
              "        fill: #1967D2;\n",
              "        height: 32px;\n",
              "        padding: 0 0 0 0;\n",
              "        width: 32px;\n",
              "      }\n",
              "\n",
              "      .colab-df-generate:hover {\n",
              "        background-color: #E2EBFA;\n",
              "        box-shadow: 0px 1px 2px rgba(60, 64, 67, 0.3), 0px 1px 3px 1px rgba(60, 64, 67, 0.15);\n",
              "        fill: #174EA6;\n",
              "      }\n",
              "\n",
              "      [theme=dark] .colab-df-generate {\n",
              "        background-color: #3B4455;\n",
              "        fill: #D2E3FC;\n",
              "      }\n",
              "\n",
              "      [theme=dark] .colab-df-generate:hover {\n",
              "        background-color: #434B5C;\n",
              "        box-shadow: 0px 1px 3px 1px rgba(0, 0, 0, 0.15);\n",
              "        filter: drop-shadow(0px 1px 2px rgba(0, 0, 0, 0.3));\n",
              "        fill: #FFFFFF;\n",
              "      }\n",
              "    </style>\n",
              "    <button class=\"colab-df-generate\" onclick=\"generateWithVariable('df_duplicated')\"\n",
              "            title=\"Generate code using this dataframe.\"\n",
              "            style=\"display:none;\">\n",
              "\n",
              "  <svg xmlns=\"http://www.w3.org/2000/svg\" height=\"24px\"viewBox=\"0 0 24 24\"\n",
              "       width=\"24px\">\n",
              "    <path d=\"M7,19H8.4L18.45,9,17,7.55,7,17.6ZM5,21V16.75L18.45,3.32a2,2,0,0,1,2.83,0l1.4,1.43a1.91,1.91,0,0,1,.58,1.4,1.91,1.91,0,0,1-.58,1.4L9.25,21ZM18.45,9,17,7.55Zm-12,3A5.31,5.31,0,0,0,4.9,8.1,5.31,5.31,0,0,0,1,6.5,5.31,5.31,0,0,0,4.9,4.9,5.31,5.31,0,0,0,6.5,1,5.31,5.31,0,0,0,8.1,4.9,5.31,5.31,0,0,0,12,6.5,5.46,5.46,0,0,0,6.5,12Z\"/>\n",
              "  </svg>\n",
              "    </button>\n",
              "    <script>\n",
              "      (() => {\n",
              "      const buttonEl =\n",
              "        document.querySelector('#id_2118751d-d4a2-4cac-9864-4cfd0166b68f button.colab-df-generate');\n",
              "      buttonEl.style.display =\n",
              "        google.colab.kernel.accessAllowed ? 'block' : 'none';\n",
              "\n",
              "      buttonEl.onclick = () => {\n",
              "        google.colab.notebook.generateWithVariable('df_duplicated');\n",
              "      }\n",
              "      })();\n",
              "    </script>\n",
              "  </div>\n",
              "\n",
              "    </div>\n",
              "  </div>\n"
            ],
            "application/vnd.google.colaboratory.intrinsic+json": {
              "type": "dataframe",
              "variable_name": "df_duplicated",
              "summary": "{\n  \"name\": \"df_duplicated\",\n  \"rows\": 8,\n  \"fields\": [\n    {\n      \"column\": \"profile pic\",\n      \"properties\": {\n        \"dtype\": \"number\",\n        \"std\": 0,\n        \"min\": 0,\n        \"max\": 1,\n        \"num_unique_values\": 2,\n        \"samples\": [\n          0,\n          1\n        ],\n        \"semantic_type\": \"\",\n        \"description\": \"\"\n      }\n    },\n    {\n      \"column\": \"nums/length username\",\n      \"properties\": {\n        \"dtype\": \"number\",\n        \"std\": 0.39745619704745905,\n        \"min\": 0.0,\n        \"max\": 0.91,\n        \"num_unique_values\": 3,\n        \"samples\": [\n          0.0,\n          0.91\n        ],\n        \"semantic_type\": \"\",\n        \"description\": \"\"\n      }\n    },\n    {\n      \"column\": \"fullname words\",\n      \"properties\": {\n        \"dtype\": \"number\",\n        \"std\": 0,\n        \"min\": 1,\n        \"max\": 2,\n        \"num_unique_values\": 2,\n        \"samples\": [\n          1,\n          2\n        ],\n        \"semantic_type\": \"\",\n        \"description\": \"\"\n      }\n    },\n    {\n      \"column\": \"nums/length fullname\",\n      \"properties\": {\n        \"dtype\": \"number\",\n        \"std\": 0.0,\n        \"min\": 0.0,\n        \"max\": 0.0,\n        \"num_unique_values\": 1,\n        \"samples\": [\n          0.0\n        ],\n        \"semantic_type\": \"\",\n        \"description\": \"\"\n      }\n    },\n    {\n      \"column\": \"name==username\",\n      \"properties\": {\n        \"dtype\": \"number\",\n        \"std\": 0,\n        \"min\": 0,\n        \"max\": 1,\n        \"num_unique_values\": 2,\n        \"samples\": [\n          1\n        ],\n        \"semantic_type\": \"\",\n        \"description\": \"\"\n      }\n    },\n    {\n      \"column\": \"description length\",\n      \"properties\": {\n        \"dtype\": \"number\",\n        \"std\": 22,\n        \"min\": 0,\n        \"max\": 48,\n        \"num_unique_values\": 2,\n        \"samples\": [\n          0\n        ],\n        \"semantic_type\": \"\",\n        \"description\": \"\"\n      }\n    },\n    {\n      \"column\": \"external URL\",\n      \"properties\": {\n        \"dtype\": \"number\",\n        \"std\": 0,\n        \"min\": 0,\n        \"max\": 0,\n        \"num_unique_values\": 1,\n        \"samples\": [\n          0\n        ],\n        \"semantic_type\": \"\",\n        \"description\": \"\"\n      }\n    },\n    {\n      \"column\": \"private\",\n      \"properties\": {\n        \"dtype\": \"number\",\n        \"std\": 0,\n        \"min\": 0,\n        \"max\": 0,\n        \"num_unique_values\": 1,\n        \"samples\": [\n          0\n        ],\n        \"semantic_type\": \"\",\n        \"description\": \"\"\n      }\n    },\n    {\n      \"column\": \"#posts\",\n      \"properties\": {\n        \"dtype\": \"number\",\n        \"std\": 102,\n        \"min\": 0,\n        \"max\": 222,\n        \"num_unique_values\": 2,\n        \"samples\": [\n          0\n        ],\n        \"semantic_type\": \"\",\n        \"description\": \"\"\n      }\n    },\n    {\n      \"column\": \"#followers\",\n      \"properties\": {\n        \"dtype\": \"number\",\n        \"std\": 2415,\n        \"min\": 45,\n        \"max\": 5282,\n        \"num_unique_values\": 4,\n        \"samples\": [\n          75\n        ],\n        \"semantic_type\": \"\",\n        \"description\": \"\"\n      }\n    },\n    {\n      \"column\": \"#follows\",\n      \"properties\": {\n        \"dtype\": \"number\",\n        \"std\": 336,\n        \"min\": 26,\n        \"max\": 694,\n        \"num_unique_values\": 4,\n        \"samples\": [\n          26\n        ],\n        \"semantic_type\": \"\",\n        \"description\": \"\"\n      }\n    },\n    {\n      \"column\": \"fake\",\n      \"properties\": {\n        \"dtype\": \"number\",\n        \"std\": 0,\n        \"min\": 0,\n        \"max\": 1,\n        \"num_unique_values\": 2,\n        \"samples\": [\n          1\n        ],\n        \"semantic_type\": \"\",\n        \"description\": \"\"\n      }\n    }\n  ]\n}"
            }
          },
          "metadata": {},
          "execution_count": 18
        }
      ]
    },
    {
      "cell_type": "code",
      "source": [
        "# Removing duplicates\n",
        "df.drop_duplicates(inplace = True)\n"
      ],
      "metadata": {
        "id": "MRmnWUpG9SmD"
      },
      "execution_count": null,
      "outputs": []
    },
    {
      "cell_type": "code",
      "source": [
        "# new dataset size\n",
        "print(\" size of dataset :\",len(df))\n"
      ],
      "metadata": {
        "colab": {
          "base_uri": "https://localhost:8080/"
        },
        "id": "xhHCppjk9nVc",
        "outputId": "7f81fac6-1413-48b4-d27d-654e595194a1"
      },
      "execution_count": null,
      "outputs": [
        {
          "output_type": "stream",
          "name": "stdout",
          "text": [
            " size of dataset : 692\n"
          ]
        }
      ]
    },
    {
      "cell_type": "code",
      "source": [
        "target=np.array(df['fake'])\n",
        "data = df.drop('fake',axis=1)\n",
        "inp_data = np.array(data)\n",
        "inp_data = np.float64(inp_data)"
      ],
      "metadata": {
        "id": "I4WN2Q8f9scx"
      },
      "execution_count": null,
      "outputs": []
    },
    {
      "cell_type": "markdown",
      "source": [
        "# dataspliting"
      ],
      "metadata": {
        "id": "jb0yKJs-BVUS"
      }
    },
    {
      "cell_type": "code",
      "source": [
        "# for machine learning\n",
        "xtrain,xtest,ytrain,ytest = train_test_split(inp_data,target,test_size=0.2,random_state=100)"
      ],
      "metadata": {
        "id": "0m27dhmc_qi4"
      },
      "execution_count": null,
      "outputs": []
    },
    {
      "cell_type": "code",
      "source": [
        "# for deep learning\n",
        "x_train = xtrain.reshape((xtrain.shape[0],1,xtrain.shape[1]))\n",
        "x_test = xtest.reshape((xtest.shape[0],1,xtest.shape[1]))"
      ],
      "metadata": {
        "id": "oOD9QMreBMTw"
      },
      "execution_count": null,
      "outputs": []
    },
    {
      "cell_type": "markdown",
      "source": [],
      "metadata": {
        "id": "9iU0Y87T_1Ol"
      }
    },
    {
      "cell_type": "markdown",
      "source": [
        "#SVM classifier (Machine Learning)"
      ],
      "metadata": {
        "id": "wHWY7RJ7Bmhl"
      }
    },
    {
      "cell_type": "code",
      "source": [
        "\n",
        "\n",
        "# svm training\n",
        "svm = SVC()\n",
        "svm.fit(xtrain,ytrain)\n"
      ],
      "metadata": {
        "colab": {
          "base_uri": "https://localhost:8080/",
          "height": 74
        },
        "id": "IrhBOVyQBhtw",
        "outputId": "65afd7f0-6c56-46c4-84a4-7724d2a3ce01"
      },
      "execution_count": null,
      "outputs": [
        {
          "output_type": "execute_result",
          "data": {
            "text/plain": [
              "SVC()"
            ],
            "text/html": [
              "<style>#sk-container-id-1 {color: black;background-color: white;}#sk-container-id-1 pre{padding: 0;}#sk-container-id-1 div.sk-toggleable {background-color: white;}#sk-container-id-1 label.sk-toggleable__label {cursor: pointer;display: block;width: 100%;margin-bottom: 0;padding: 0.3em;box-sizing: border-box;text-align: center;}#sk-container-id-1 label.sk-toggleable__label-arrow:before {content: \"▸\";float: left;margin-right: 0.25em;color: #696969;}#sk-container-id-1 label.sk-toggleable__label-arrow:hover:before {color: black;}#sk-container-id-1 div.sk-estimator:hover label.sk-toggleable__label-arrow:before {color: black;}#sk-container-id-1 div.sk-toggleable__content {max-height: 0;max-width: 0;overflow: hidden;text-align: left;background-color: #f0f8ff;}#sk-container-id-1 div.sk-toggleable__content pre {margin: 0.2em;color: black;border-radius: 0.25em;background-color: #f0f8ff;}#sk-container-id-1 input.sk-toggleable__control:checked~div.sk-toggleable__content {max-height: 200px;max-width: 100%;overflow: auto;}#sk-container-id-1 input.sk-toggleable__control:checked~label.sk-toggleable__label-arrow:before {content: \"▾\";}#sk-container-id-1 div.sk-estimator input.sk-toggleable__control:checked~label.sk-toggleable__label {background-color: #d4ebff;}#sk-container-id-1 div.sk-label input.sk-toggleable__control:checked~label.sk-toggleable__label {background-color: #d4ebff;}#sk-container-id-1 input.sk-hidden--visually {border: 0;clip: rect(1px 1px 1px 1px);clip: rect(1px, 1px, 1px, 1px);height: 1px;margin: -1px;overflow: hidden;padding: 0;position: absolute;width: 1px;}#sk-container-id-1 div.sk-estimator {font-family: monospace;background-color: #f0f8ff;border: 1px dotted black;border-radius: 0.25em;box-sizing: border-box;margin-bottom: 0.5em;}#sk-container-id-1 div.sk-estimator:hover {background-color: #d4ebff;}#sk-container-id-1 div.sk-parallel-item::after {content: \"\";width: 100%;border-bottom: 1px solid gray;flex-grow: 1;}#sk-container-id-1 div.sk-label:hover label.sk-toggleable__label {background-color: #d4ebff;}#sk-container-id-1 div.sk-serial::before {content: \"\";position: absolute;border-left: 1px solid gray;box-sizing: border-box;top: 0;bottom: 0;left: 50%;z-index: 0;}#sk-container-id-1 div.sk-serial {display: flex;flex-direction: column;align-items: center;background-color: white;padding-right: 0.2em;padding-left: 0.2em;position: relative;}#sk-container-id-1 div.sk-item {position: relative;z-index: 1;}#sk-container-id-1 div.sk-parallel {display: flex;align-items: stretch;justify-content: center;background-color: white;position: relative;}#sk-container-id-1 div.sk-item::before, #sk-container-id-1 div.sk-parallel-item::before {content: \"\";position: absolute;border-left: 1px solid gray;box-sizing: border-box;top: 0;bottom: 0;left: 50%;z-index: -1;}#sk-container-id-1 div.sk-parallel-item {display: flex;flex-direction: column;z-index: 1;position: relative;background-color: white;}#sk-container-id-1 div.sk-parallel-item:first-child::after {align-self: flex-end;width: 50%;}#sk-container-id-1 div.sk-parallel-item:last-child::after {align-self: flex-start;width: 50%;}#sk-container-id-1 div.sk-parallel-item:only-child::after {width: 0;}#sk-container-id-1 div.sk-dashed-wrapped {border: 1px dashed gray;margin: 0 0.4em 0.5em 0.4em;box-sizing: border-box;padding-bottom: 0.4em;background-color: white;}#sk-container-id-1 div.sk-label label {font-family: monospace;font-weight: bold;display: inline-block;line-height: 1.2em;}#sk-container-id-1 div.sk-label-container {text-align: center;}#sk-container-id-1 div.sk-container {/* jupyter's `normalize.less` sets `[hidden] { display: none; }` but bootstrap.min.css set `[hidden] { display: none !important; }` so we also need the `!important` here to be able to override the default hidden behavior on the sphinx rendered scikit-learn.org. See: https://github.com/scikit-learn/scikit-learn/issues/21755 */display: inline-block !important;position: relative;}#sk-container-id-1 div.sk-text-repr-fallback {display: none;}</style><div id=\"sk-container-id-1\" class=\"sk-top-container\"><div class=\"sk-text-repr-fallback\"><pre>SVC()</pre><b>In a Jupyter environment, please rerun this cell to show the HTML representation or trust the notebook. <br />On GitHub, the HTML representation is unable to render, please try loading this page with nbviewer.org.</b></div><div class=\"sk-container\" hidden><div class=\"sk-item\"><div class=\"sk-estimator sk-toggleable\"><input class=\"sk-toggleable__control sk-hidden--visually\" id=\"sk-estimator-id-1\" type=\"checkbox\" checked><label for=\"sk-estimator-id-1\" class=\"sk-toggleable__label sk-toggleable__label-arrow\">SVC</label><div class=\"sk-toggleable__content\"><pre>SVC()</pre></div></div></div></div></div>"
            ]
          },
          "metadata": {},
          "execution_count": 24
        }
      ]
    },
    {
      "cell_type": "code",
      "source": [
        "predictions = svm.predict(xtest)\n",
        "svm_acc = accuracy_score(ytest, predictions)\n",
        "print(\"Accuracy svm : \",svm_acc)"
      ],
      "metadata": {
        "colab": {
          "base_uri": "https://localhost:8080/"
        },
        "id": "5VUMyaZnB6u1",
        "outputId": "53ca7542-32f5-4ba6-f915-d0e2e03360f4"
      },
      "execution_count": null,
      "outputs": [
        {
          "output_type": "stream",
          "name": "stdout",
          "text": [
            "Accuracy svm :  0.48201438848920863\n"
          ]
        }
      ]
    },
    {
      "cell_type": "code",
      "source": [
        "cm = confusion_matrix(ytest,predictions)\n",
        "print(\"Confusion Matrix:\\n{}\".format(cm))\n",
        "plt.figure(figsize=(6,4))\n",
        "sns.heatmap(cm, annot=True, fmt=\"d\")\n",
        "plt.show()"
      ],
      "metadata": {
        "colab": {
          "base_uri": "https://localhost:8080/",
          "height": 420
        },
        "id": "TSGTPVRhCq04",
        "outputId": "f70ea71a-cf2e-45b2-cc12-3d584d02f3aa"
      },
      "execution_count": null,
      "outputs": [
        {
          "output_type": "stream",
          "name": "stdout",
          "text": [
            "Confusion Matrix:\n",
            "[[ 4 72]\n",
            " [ 0 63]]\n"
          ]
        },
        {
          "output_type": "display_data",
          "data": {
            "text/plain": [
              "<Figure size 600x400 with 2 Axes>"
            ],
            "image/png": "[encoded data removed]"
          },
          "metadata": {}
        }
      ]
    },
    {
      "cell_type": "markdown",
      "source": [
        "#KNN classifier (Machine Learning)"
      ],
      "metadata": {
        "id": "d8UqmpluCQ2R"
      }
    },
    {
      "cell_type": "code",
      "source": [
        "\n",
        "knn = KNeighborsClassifier(2).fit(xtrain, ytrain)\n",
        "predictions = knn.predict(xtest)\n",
        "acc = accuracy_score(ytest,predictions)\n",
        "print(\"Accuracy knn : \", acc)"
      ],
      "metadata": {
        "colab": {
          "base_uri": "https://localhost:8080/"
        },
        "id": "kbV1YJAACGDf",
        "outputId": "6ad85eac-ed14-4a56-fb02-8c3833f8adb6"
      },
      "execution_count": null,
      "outputs": [
        {
          "output_type": "stream",
          "name": "stdout",
          "text": [
            "Accuracy knn :  0.8345323741007195\n"
          ]
        }
      ]
    },
    {
      "cell_type": "code",
      "source": [
        "\n",
        "cm = confusion_matrix(ytest,predictions)\n",
        "print(\"Confusion Matrix:\\n{}\".format(cm))\n",
        "plt.figure(figsize=(6,4))\n",
        "sns.heatmap(cm, annot=True, fmt=\"d\")\n",
        "plt.show()"
      ],
      "metadata": {
        "colab": {
          "base_uri": "https://localhost:8080/",
          "height": 420
        },
        "id": "yGGUNi7RCUh_",
        "outputId": "2c8d90f1-4483-4d04-93e2-c5bd23fb5028"
      },
      "execution_count": null,
      "outputs": [
        {
          "output_type": "stream",
          "name": "stdout",
          "text": [
            "Confusion Matrix:\n",
            "[[73  3]\n",
            " [20 43]]\n"
          ]
        },
        {
          "output_type": "display_data",
          "data": {
            "text/plain": [
              "<Figure size 600x400 with 2 Axes>"
            ],
            "image/png": "[encoded data removed]"
          },
          "metadata": {}
        }
      ]
    },
    {
      "cell_type": "markdown",
      "source": [
        "#Multi-Layer Perceptron Classifier"
      ],
      "metadata": {
        "id": "O--rCKUTDQOp"
      }
    },
    {
      "cell_type": "code",
      "source": [
        "\n",
        "clf = MLPClassifier(random_state=1, max_iter=300).fit(xtrain, ytrain)\n"
      ],
      "metadata": {
        "id": "AA-LPXxZCmVK"
      },
      "execution_count": null,
      "outputs": []
    },
    {
      "cell_type": "code",
      "source": [
        "predictions = clf.predict(xtest)\n",
        "clf_acc = accuracy_score(ytest,predictions)\n",
        "print(\"Accuracy MLP Classifier : \", clf_acc)"
      ],
      "metadata": {
        "colab": {
          "base_uri": "https://localhost:8080/"
        },
        "id": "yZI9yWeADBYf",
        "outputId": "05401ecf-ac85-44cf-f5f1-f41c8b073a9b"
      },
      "execution_count": null,
      "outputs": [
        {
          "output_type": "stream",
          "name": "stdout",
          "text": [
            "Accuracy MLP Classifier :  0.7697841726618705\n"
          ]
        }
      ]
    },
    {
      "cell_type": "code",
      "source": [
        "cm = confusion_matrix(ytest,predictions)\n",
        "print(\"Confusion Matrix:\\n{}\".format(cm))\n",
        "plt.figure(figsize=(6,4))\n",
        "sns.heatmap(cm, annot=True, fmt=\"d\")\n",
        "plt.show()"
      ],
      "metadata": {
        "colab": {
          "base_uri": "https://localhost:8080/",
          "height": 420
        },
        "id": "2fF0N9yVDCim",
        "outputId": "da6c39b6-13b0-41fa-d63a-a1735f004b9f"
      },
      "execution_count": null,
      "outputs": [
        {
          "output_type": "stream",
          "name": "stdout",
          "text": [
            "Confusion Matrix:\n",
            "[[74  2]\n",
            " [30 33]]\n"
          ]
        },
        {
          "output_type": "display_data",
          "data": {
            "text/plain": [
              "<Figure size 600x400 with 2 Axes>"
            ],
            "image/png": "[encoded data removed]"
          },
          "metadata": {}
        }
      ]
    },
    {
      "cell_type": "markdown",
      "source": [
        "#LSTM"
      ],
      "metadata": {
        "id": "BYaLaZ_-JXTh"
      }
    },
    {
      "cell_type": "code",
      "source": [
        "model = keras.Sequential()\n",
        "model.add(layers.Conv1D(128,1, activation='relu',input_shape=(x_train.shape[1],11)))\n",
        "model.add(layers.LSTM(25,return_sequences=True))\n",
        "model.add(layers.SimpleRNN(20))\n",
        "model.add(layers.Dense(400))\n",
        "model.add(layers.ELU())\n",
        "model.add(layers.Dropout(0.2))\n",
        "model.add(layers.Dense(2, activation='softmax'))\n",
        "model.compile(loss='sparse_categorical_crossentropy', optimizer='adam', metrics=['accuracy'])\n",
        "print(model.summary())"
      ],
      "metadata": {
        "id": "pYGm-8TADFae",
        "colab": {
          "base_uri": "https://localhost:8080/"
        },
        "outputId": "1dfd200c-d2f7-4603-d30c-7b3a206b48ed"
      },
      "execution_count": null,
      "outputs": [
        {
          "output_type": "stream",
          "name": "stdout",
          "text": [
            "Model: \"sequential\"\n",
            "_________________________________________________________________\n",
            " Layer (type)                Output Shape              Param #   \n",
            "=================================================================\n",
            " conv1d (Conv1D)             (None, 1, 128)            1536      \n",
            "                                                                 \n",
            " lstm (LSTM)                 (None, 1, 25)             15400     \n",
            "                                                                 \n",
            " simple_rnn (SimpleRNN)      (None, 20)                920       \n",
            "                                                                 \n",
            " dense (Dense)               (None, 400)               8400      \n",
            "                                                                 \n",
            " elu (ELU)                   (None, 400)               0         \n",
            "                                                                 \n",
            " dropout (Dropout)           (None, 400)               0         \n",
            "                                                                 \n",
            " dense_1 (Dense)             (None, 2)                 802       \n",
            "                                                                 \n",
            "=================================================================\n",
            "Total params: 27058 (105.70 KB)\n",
            "Trainable params: 27058 (105.70 KB)\n",
            "Non-trainable params: 0 (0.00 Byte)\n",
            "_________________________________________________________________\n",
            "None\n"
          ]
        }
      ]
    },
    {
      "cell_type": "code",
      "source": [
        "history = model.fit(x_train,ytrain,epochs=100, validation_split=0.2)"
      ],
      "metadata": {
        "colab": {
          "base_uri": "https://localhost:8080/"
        },
        "id": "Gl3stucuEx5h",
        "outputId": "4fc3f735-9dae-437b-abcb-ff974be9adce"
      },
      "execution_count": null,
      "outputs": [
        {
          "output_type": "stream",
          "name": "stdout",
          "text": [
            "Epoch 1/100\n",
            "14/14 [==============================] - 8s 62ms/step - loss: 0.5499 - accuracy: 0.7240 - val_loss: 0.4597 - val_accuracy: 0.8108\n",
            "Epoch 2/100\n",
            "14/14 [==============================] - 0s 9ms/step - loss: 0.4539 - accuracy: 0.8371 - val_loss: 0.3932 - val_accuracy: 0.8649\n",
            "Epoch 3/100\n",
            "14/14 [==============================] - 0s 10ms/step - loss: 0.4262 - accuracy: 0.8122 - val_loss: 0.4812 - val_accuracy: 0.7568\n",
            "Epoch 4/100\n",
            "14/14 [==============================] - 0s 10ms/step - loss: 0.4120 - accuracy: 0.8167 - val_loss: 0.3876 - val_accuracy: 0.8559\n",
            "Epoch 5/100\n",
            "14/14 [==============================] - 0s 9ms/step - loss: 0.4029 - accuracy: 0.8145 - val_loss: 0.4576 - val_accuracy: 0.8559\n",
            "Epoch 6/100\n",
            "14/14 [==============================] - 0s 10ms/step - loss: 0.3900 - accuracy: 0.8394 - val_loss: 0.3876 - val_accuracy: 0.8739\n",
            "Epoch 7/100\n",
            "14/14 [==============================] - 0s 10ms/step - loss: 0.3705 - accuracy: 0.8597 - val_loss: 0.3751 - val_accuracy: 0.8739\n",
            "Epoch 8/100\n",
            "14/14 [==============================] - 0s 9ms/step - loss: 0.3941 - accuracy: 0.8371 - val_loss: 0.4632 - val_accuracy: 0.7748\n",
            "Epoch 9/100\n",
            "14/14 [==============================] - 0s 9ms/step - loss: 0.3933 - accuracy: 0.8484 - val_loss: 0.3968 - val_accuracy: 0.8919\n",
            "Epoch 10/100\n",
            "14/14 [==============================] - 0s 9ms/step - loss: 0.3661 - accuracy: 0.8439 - val_loss: 0.3262 - val_accuracy: 0.9009\n",
            "Epoch 11/100\n",
            "14/14 [==============================] - 0s 9ms/step - loss: 0.3246 - accuracy: 0.8891 - val_loss: 0.3304 - val_accuracy: 0.8919\n",
            "Epoch 12/100\n",
            "14/14 [==============================] - 0s 10ms/step - loss: 0.3550 - accuracy: 0.8281 - val_loss: 0.4037 - val_accuracy: 0.8288\n",
            "Epoch 13/100\n",
            "14/14 [==============================] - 0s 9ms/step - loss: 0.3494 - accuracy: 0.8665 - val_loss: 0.3189 - val_accuracy: 0.9009\n",
            "Epoch 14/100\n",
            "14/14 [==============================] - 0s 10ms/step - loss: 0.3157 - accuracy: 0.8801 - val_loss: 0.3263 - val_accuracy: 0.8649\n",
            "Epoch 15/100\n",
            "14/14 [==============================] - 0s 9ms/step - loss: 0.2984 - accuracy: 0.8824 - val_loss: 0.2871 - val_accuracy: 0.9099\n",
            "Epoch 16/100\n",
            "14/14 [==============================] - 0s 10ms/step - loss: 0.3068 - accuracy: 0.8778 - val_loss: 0.3871 - val_accuracy: 0.8198\n",
            "Epoch 17/100\n",
            "14/14 [==============================] - 0s 9ms/step - loss: 0.3020 - accuracy: 0.8846 - val_loss: 0.3021 - val_accuracy: 0.9009\n",
            "Epoch 18/100\n",
            "14/14 [==============================] - 0s 9ms/step - loss: 0.2814 - accuracy: 0.8959 - val_loss: 0.3231 - val_accuracy: 0.9009\n",
            "Epoch 19/100\n",
            "14/14 [==============================] - 0s 10ms/step - loss: 0.2849 - accuracy: 0.8846 - val_loss: 0.2839 - val_accuracy: 0.9009\n",
            "Epoch 20/100\n",
            "14/14 [==============================] - 0s 9ms/step - loss: 0.2550 - accuracy: 0.8959 - val_loss: 0.2753 - val_accuracy: 0.9099\n",
            "Epoch 21/100\n",
            "14/14 [==============================] - 0s 10ms/step - loss: 0.3084 - accuracy: 0.8643 - val_loss: 0.3311 - val_accuracy: 0.8649\n",
            "Epoch 22/100\n",
            "14/14 [==============================] - 0s 10ms/step - loss: 0.3011 - accuracy: 0.8801 - val_loss: 0.3180 - val_accuracy: 0.9009\n",
            "Epoch 23/100\n",
            "14/14 [==============================] - 0s 9ms/step - loss: 0.2719 - accuracy: 0.9072 - val_loss: 0.2878 - val_accuracy: 0.8919\n",
            "Epoch 24/100\n",
            "14/14 [==============================] - 0s 10ms/step - loss: 0.2678 - accuracy: 0.8937 - val_loss: 0.3581 - val_accuracy: 0.8468\n",
            "Epoch 25/100\n",
            "14/14 [==============================] - 0s 9ms/step - loss: 0.2825 - accuracy: 0.9050 - val_loss: 0.3202 - val_accuracy: 0.8739\n",
            "Epoch 26/100\n",
            "14/14 [==============================] - 0s 10ms/step - loss: 0.2703 - accuracy: 0.9095 - val_loss: 0.2728 - val_accuracy: 0.9099\n",
            "Epoch 27/100\n",
            "14/14 [==============================] - 0s 9ms/step - loss: 0.2517 - accuracy: 0.9118 - val_loss: 0.2919 - val_accuracy: 0.9009\n",
            "Epoch 28/100\n",
            "14/14 [==============================] - 0s 10ms/step - loss: 0.2918 - accuracy: 0.9140 - val_loss: 0.2931 - val_accuracy: 0.9009\n",
            "Epoch 29/100\n",
            "14/14 [==============================] - 0s 9ms/step - loss: 0.2804 - accuracy: 0.9140 - val_loss: 0.3537 - val_accuracy: 0.8739\n",
            "Epoch 30/100\n",
            "14/14 [==============================] - 0s 10ms/step - loss: 0.3064 - accuracy: 0.8914 - val_loss: 0.2807 - val_accuracy: 0.8919\n",
            "Epoch 31/100\n",
            "14/14 [==============================] - 0s 10ms/step - loss: 0.3919 - accuracy: 0.8394 - val_loss: 0.3789 - val_accuracy: 0.8559\n",
            "Epoch 32/100\n",
            "14/14 [==============================] - 0s 9ms/step - loss: 0.3482 - accuracy: 0.8643 - val_loss: 0.3107 - val_accuracy: 0.9009\n",
            "Epoch 33/100\n",
            "14/14 [==============================] - 0s 9ms/step - loss: 0.3327 - accuracy: 0.8552 - val_loss: 0.3485 - val_accuracy: 0.8649\n",
            "Epoch 34/100\n",
            "14/14 [==============================] - 0s 10ms/step - loss: 0.3150 - accuracy: 0.8824 - val_loss: 0.3393 - val_accuracy: 0.8829\n",
            "Epoch 35/100\n",
            "14/14 [==============================] - 0s 9ms/step - loss: 0.3256 - accuracy: 0.8733 - val_loss: 0.3403 - val_accuracy: 0.9099\n",
            "Epoch 36/100\n",
            "14/14 [==============================] - 0s 9ms/step - loss: 0.3113 - accuracy: 0.8982 - val_loss: 0.3298 - val_accuracy: 0.8919\n",
            "Epoch 37/100\n",
            "14/14 [==============================] - 0s 9ms/step - loss: 0.2990 - accuracy: 0.8914 - val_loss: 0.3608 - val_accuracy: 0.8919\n",
            "Epoch 38/100\n",
            "14/14 [==============================] - 0s 9ms/step - loss: 0.2684 - accuracy: 0.9072 - val_loss: 0.2735 - val_accuracy: 0.8829\n",
            "Epoch 39/100\n",
            "14/14 [==============================] - 0s 9ms/step - loss: 0.3241 - accuracy: 0.8959 - val_loss: 0.2636 - val_accuracy: 0.9189\n",
            "Epoch 40/100\n",
            "14/14 [==============================] - 0s 9ms/step - loss: 0.2494 - accuracy: 0.9186 - val_loss: 0.2597 - val_accuracy: 0.8919\n",
            "Epoch 41/100\n",
            "14/14 [==============================] - 0s 10ms/step - loss: 0.2702 - accuracy: 0.8982 - val_loss: 0.3184 - val_accuracy: 0.9099\n",
            "Epoch 42/100\n",
            "14/14 [==============================] - 0s 10ms/step - loss: 0.2530 - accuracy: 0.9118 - val_loss: 0.2805 - val_accuracy: 0.8829\n",
            "Epoch 43/100\n",
            "14/14 [==============================] - 0s 9ms/step - loss: 0.2192 - accuracy: 0.9186 - val_loss: 0.2677 - val_accuracy: 0.9009\n",
            "Epoch 44/100\n",
            "14/14 [==============================] - 0s 9ms/step - loss: 0.2466 - accuracy: 0.9186 - val_loss: 0.2965 - val_accuracy: 0.8739\n",
            "Epoch 45/100\n",
            "14/14 [==============================] - 0s 9ms/step - loss: 0.2165 - accuracy: 0.9186 - val_loss: 0.2838 - val_accuracy: 0.8919\n",
            "Epoch 46/100\n",
            "14/14 [==============================] - 0s 10ms/step - loss: 0.2228 - accuracy: 0.9253 - val_loss: 0.2727 - val_accuracy: 0.9009\n",
            "Epoch 47/100\n",
            "14/14 [==============================] - 0s 9ms/step - loss: 0.2449 - accuracy: 0.9140 - val_loss: 0.3120 - val_accuracy: 0.9009\n",
            "Epoch 48/100\n",
            "14/14 [==============================] - 0s 10ms/step - loss: 0.2519 - accuracy: 0.9118 - val_loss: 0.2482 - val_accuracy: 0.9099\n",
            "Epoch 49/100\n",
            "14/14 [==============================] - 0s 16ms/step - loss: 0.2271 - accuracy: 0.9231 - val_loss: 0.2732 - val_accuracy: 0.8919\n",
            "Epoch 50/100\n",
            "14/14 [==============================] - 0s 14ms/step - loss: 0.2905 - accuracy: 0.8778 - val_loss: 0.3715 - val_accuracy: 0.8739\n",
            "Epoch 51/100\n",
            "14/14 [==============================] - 0s 14ms/step - loss: 0.4382 - accuracy: 0.7941 - val_loss: 0.4294 - val_accuracy: 0.8108\n",
            "Epoch 52/100\n",
            "14/14 [==============================] - 0s 14ms/step - loss: 0.4284 - accuracy: 0.8077 - val_loss: 0.3859 - val_accuracy: 0.8559\n",
            "Epoch 53/100\n",
            "14/14 [==============================] - 0s 14ms/step - loss: 0.4189 - accuracy: 0.7941 - val_loss: 0.5142 - val_accuracy: 0.6757\n",
            "Epoch 54/100\n",
            "14/14 [==============================] - 0s 14ms/step - loss: 0.4695 - accuracy: 0.7760 - val_loss: 0.7231 - val_accuracy: 0.6937\n",
            "Epoch 55/100\n",
            "14/14 [==============================] - 0s 13ms/step - loss: 0.4666 - accuracy: 0.7919 - val_loss: 0.3480 - val_accuracy: 0.8649\n",
            "Epoch 56/100\n",
            "14/14 [==============================] - 0s 14ms/step - loss: 0.3199 - accuracy: 0.8801 - val_loss: 0.3711 - val_accuracy: 0.8378\n",
            "Epoch 57/100\n",
            "14/14 [==============================] - 0s 13ms/step - loss: 0.2901 - accuracy: 0.8869 - val_loss: 0.2793 - val_accuracy: 0.9189\n",
            "Epoch 58/100\n",
            "14/14 [==============================] - 0s 13ms/step - loss: 0.2976 - accuracy: 0.8846 - val_loss: 0.3588 - val_accuracy: 0.8559\n",
            "Epoch 59/100\n",
            "14/14 [==============================] - 0s 14ms/step - loss: 0.2610 - accuracy: 0.8937 - val_loss: 0.2721 - val_accuracy: 0.9189\n",
            "Epoch 60/100\n",
            "14/14 [==============================] - 0s 14ms/step - loss: 0.3080 - accuracy: 0.8529 - val_loss: 0.4494 - val_accuracy: 0.7748\n",
            "Epoch 61/100\n",
            "14/14 [==============================] - 0s 13ms/step - loss: 0.2987 - accuracy: 0.8597 - val_loss: 0.3441 - val_accuracy: 0.9009\n",
            "Epoch 62/100\n",
            "14/14 [==============================] - 0s 14ms/step - loss: 0.3065 - accuracy: 0.8575 - val_loss: 0.3313 - val_accuracy: 0.9189\n",
            "Epoch 63/100\n",
            "14/14 [==============================] - 0s 13ms/step - loss: 0.4383 - accuracy: 0.8371 - val_loss: 0.3571 - val_accuracy: 0.8559\n",
            "Epoch 64/100\n",
            "14/14 [==============================] - 0s 9ms/step - loss: 0.3267 - accuracy: 0.8710 - val_loss: 0.3013 - val_accuracy: 0.9099\n",
            "Epoch 65/100\n",
            "14/14 [==============================] - 0s 10ms/step - loss: 0.3043 - accuracy: 0.8575 - val_loss: 0.2978 - val_accuracy: 0.8829\n",
            "Epoch 66/100\n",
            "14/14 [==============================] - 0s 10ms/step - loss: 0.2726 - accuracy: 0.8846 - val_loss: 0.3481 - val_accuracy: 0.8829\n",
            "Epoch 67/100\n",
            "14/14 [==============================] - 0s 9ms/step - loss: 0.3078 - accuracy: 0.8824 - val_loss: 0.3724 - val_accuracy: 0.8829\n",
            "Epoch 68/100\n",
            "14/14 [==============================] - 0s 10ms/step - loss: 0.2928 - accuracy: 0.8869 - val_loss: 0.3658 - val_accuracy: 0.8919\n",
            "Epoch 69/100\n",
            "14/14 [==============================] - 0s 10ms/step - loss: 0.3013 - accuracy: 0.9027 - val_loss: 0.3487 - val_accuracy: 0.9009\n",
            "Epoch 70/100\n",
            "14/14 [==============================] - 0s 10ms/step - loss: 0.2875 - accuracy: 0.9027 - val_loss: 0.3969 - val_accuracy: 0.8649\n",
            "Epoch 71/100\n",
            "14/14 [==============================] - 0s 10ms/step - loss: 0.3340 - accuracy: 0.8597 - val_loss: 0.3623 - val_accuracy: 0.8829\n",
            "Epoch 72/100\n",
            "14/14 [==============================] - 0s 9ms/step - loss: 0.2943 - accuracy: 0.8891 - val_loss: 0.3396 - val_accuracy: 0.9099\n",
            "Epoch 73/100\n",
            "14/14 [==============================] - 0s 10ms/step - loss: 0.3082 - accuracy: 0.8665 - val_loss: 0.3533 - val_accuracy: 0.9099\n",
            "Epoch 74/100\n",
            "14/14 [==============================] - 0s 10ms/step - loss: 0.2664 - accuracy: 0.9095 - val_loss: 0.3024 - val_accuracy: 0.9189\n",
            "Epoch 75/100\n",
            "14/14 [==============================] - 0s 10ms/step - loss: 0.2655 - accuracy: 0.9027 - val_loss: 0.3069 - val_accuracy: 0.9099\n",
            "Epoch 76/100\n",
            "14/14 [==============================] - 0s 10ms/step - loss: 0.2345 - accuracy: 0.9253 - val_loss: 0.2848 - val_accuracy: 0.8919\n",
            "Epoch 77/100\n",
            "14/14 [==============================] - 0s 10ms/step - loss: 0.2643 - accuracy: 0.9095 - val_loss: 0.3217 - val_accuracy: 0.8919\n",
            "Epoch 78/100\n",
            "14/14 [==============================] - 0s 9ms/step - loss: 0.2417 - accuracy: 0.9163 - val_loss: 0.3412 - val_accuracy: 0.9099\n",
            "Epoch 79/100\n",
            "14/14 [==============================] - 0s 10ms/step - loss: 0.3251 - accuracy: 0.8869 - val_loss: 0.2630 - val_accuracy: 0.9099\n",
            "Epoch 80/100\n",
            "14/14 [==============================] - 0s 10ms/step - loss: 0.2545 - accuracy: 0.9027 - val_loss: 0.2587 - val_accuracy: 0.9189\n",
            "Epoch 81/100\n",
            "14/14 [==============================] - 0s 9ms/step - loss: 0.2387 - accuracy: 0.9231 - val_loss: 0.3054 - val_accuracy: 0.9099\n",
            "Epoch 82/100\n",
            "14/14 [==============================] - 0s 9ms/step - loss: 0.2329 - accuracy: 0.9208 - val_loss: 0.2876 - val_accuracy: 0.9099\n",
            "Epoch 83/100\n",
            "14/14 [==============================] - 0s 10ms/step - loss: 0.2315 - accuracy: 0.9208 - val_loss: 0.3063 - val_accuracy: 0.8829\n",
            "Epoch 84/100\n",
            "14/14 [==============================] - 0s 9ms/step - loss: 0.2349 - accuracy: 0.9208 - val_loss: 0.2741 - val_accuracy: 0.9099\n",
            "Epoch 85/100\n",
            "14/14 [==============================] - 0s 10ms/step - loss: 0.2546 - accuracy: 0.9072 - val_loss: 0.3008 - val_accuracy: 0.9009\n",
            "Epoch 86/100\n",
            "14/14 [==============================] - 0s 10ms/step - loss: 0.2393 - accuracy: 0.9208 - val_loss: 0.3101 - val_accuracy: 0.9189\n",
            "Epoch 87/100\n",
            "14/14 [==============================] - 0s 9ms/step - loss: 0.2443 - accuracy: 0.9186 - val_loss: 0.2836 - val_accuracy: 0.9099\n",
            "Epoch 88/100\n",
            "14/14 [==============================] - 0s 9ms/step - loss: 0.2746 - accuracy: 0.8891 - val_loss: 0.3042 - val_accuracy: 0.8919\n",
            "Epoch 89/100\n",
            "14/14 [==============================] - 0s 10ms/step - loss: 0.2990 - accuracy: 0.9050 - val_loss: 0.3112 - val_accuracy: 0.8919\n",
            "Epoch 90/100\n",
            "14/14 [==============================] - 0s 9ms/step - loss: 0.2684 - accuracy: 0.9186 - val_loss: 0.2930 - val_accuracy: 0.9189\n",
            "Epoch 91/100\n",
            "14/14 [==============================] - 0s 9ms/step - loss: 0.2608 - accuracy: 0.9231 - val_loss: 0.2886 - val_accuracy: 0.9009\n",
            "Epoch 92/100\n",
            "14/14 [==============================] - 0s 9ms/step - loss: 0.2710 - accuracy: 0.9095 - val_loss: 0.2755 - val_accuracy: 0.9009\n",
            "Epoch 93/100\n",
            "14/14 [==============================] - 0s 9ms/step - loss: 0.2418 - accuracy: 0.9253 - val_loss: 0.3156 - val_accuracy: 0.9099\n",
            "Epoch 94/100\n",
            "14/14 [==============================] - 0s 10ms/step - loss: 0.2748 - accuracy: 0.9140 - val_loss: 0.2915 - val_accuracy: 0.9099\n",
            "Epoch 95/100\n",
            "14/14 [==============================] - 0s 10ms/step - loss: 0.2713 - accuracy: 0.9186 - val_loss: 0.2615 - val_accuracy: 0.8919\n",
            "Epoch 96/100\n",
            "14/14 [==============================] - 0s 9ms/step - loss: 0.2606 - accuracy: 0.9186 - val_loss: 0.2466 - val_accuracy: 0.9189\n",
            "Epoch 97/100\n",
            "14/14 [==============================] - 0s 9ms/step - loss: 0.2395 - accuracy: 0.9253 - val_loss: 0.2641 - val_accuracy: 0.9009\n",
            "Epoch 98/100\n",
            "14/14 [==============================] - 0s 10ms/step - loss: 0.2507 - accuracy: 0.9231 - val_loss: 0.2672 - val_accuracy: 0.9099\n",
            "Epoch 99/100\n",
            "14/14 [==============================] - 0s 9ms/step - loss: 0.2295 - accuracy: 0.9321 - val_loss: 0.2630 - val_accuracy: 0.8919\n",
            "Epoch 100/100\n",
            "14/14 [==============================] - 0s 9ms/step - loss: 0.2266 - accuracy: 0.9253 - val_loss: 0.2430 - val_accuracy: 0.9099\n"
          ]
        }
      ]
    },
    {
      "cell_type": "code",
      "source": [
        "plt.plot(history.history['loss'], label='train loss')\n",
        "plt.plot(history.history['val_loss'], label='val loss')\n",
        "plt.legend()\n",
        "plt.show()\n",
        "plt.savefig('LossVal_loss')\n",
        "\n",
        "plt.plot(history.history['accuracy'], label='train acc')\n",
        "plt.plot(history.history['val_accuracy'], label='val acc')\n",
        "plt.legend()\n",
        "plt.show()\n",
        "plt.savefig('AccVal_acc')"
      ],
      "metadata": {
        "colab": {
          "base_uri": "https://localhost:8080/",
          "height": 860
        },
        "id": "H9iy5qRTE2y6",
        "outputId": "2a1edc29-ffeb-41a7-dcbb-dcf51f9ac9dd"
      },
      "execution_count": null,
      "outputs": [
        {
          "output_type": "display_data",
          "data": {
            "text/plain": [
              "<Figure size 640x480 with 1 Axes>"
            ],
            "image/png": "[encoded data removed]"
          },
          "metadata": {}
        },
        {
          "output_type": "display_data",
          "data": {
            "text/plain": [
              "<Figure size 640x480 with 1 Axes>"
            ],
            "image/png": "[encoded data removed]"
          },
          "metadata": {}
        },
        {
          "output_type": "display_data",
          "data": {
            "text/plain": [
              "<Figure size 640x480 with 0 Axes>"
            ]
          },
          "metadata": {}
        }
      ]
    },
    {
      "cell_type": "code",
      "source": [
        "pred = model.predict(x_test)\n",
        "pred = np.argmax(pred,axis=1)\n",
        "acc = accuracy_score(ytest, pred)\n",
        "cm = confusion_matrix(ytest, pred)\n",
        "print(\"        Accuracy: {:.2f}%\".format(acc*100))\n",
        "print(\"Confusion Matrix:\\n{}\".format(cm))\n",
        "plt.figure(figsize=(6,4))\n",
        "sns.heatmap(cm, annot=True, fmt=\"d\",cmap='RdYlGn',linewidths=0.5)\n",
        "plt.show()"
      ],
      "metadata": {
        "colab": {
          "base_uri": "https://localhost:8080/",
          "height": 461
        },
        "id": "0WY6m9jMFHOW",
        "outputId": "c117ebdf-fa01-4556-e614-6e371d5bee76"
      },
      "execution_count": null,
      "outputs": [
        {
          "output_type": "stream",
          "name": "stdout",
          "text": [
            "5/5 [==============================] - 1s 13ms/step\n",
            "        Accuracy: 90.65%\n",
            "Confusion Matrix:\n",
            "[[70  6]\n",
            " [ 7 56]]\n"
          ]
        },
        {
          "output_type": "display_data",
          "data": {
            "text/plain": [
              "<Figure size 600x400 with 2 Axes>"
            ],
            "image/png": "[encoded data removed]"
          },
          "metadata": {}
        }
      ]
    },
    {
      "cell_type": "markdown",
      "source": [
        "#fusion"
      ],
      "metadata": {
        "id": "l1DnD4An1NpU"
      }
    },
    {
      "cell_type": "code",
      "source": [
        "def get_result(xtest):\n",
        "  pb2 = knn.predict_proba(xtest)\n",
        "  x_test = xtest.reshape((xtest.shape[0],1,xtest.shape[1]))\n",
        "  pb1 = model.predict(x_test)\n",
        "  w1=0.7\n",
        "  w2 =0.2\n",
        "  pb = w1*pb1+w2*pb2\n",
        "\n",
        "  pred = np.argmax(pb,axis=1)\n",
        "  return pred\n",
        "pred = get_result(xtest)\n",
        "acc = accuracy_score(ytest, pred)\n",
        "cm = confusion_matrix(ytest, pred)\n",
        "print(\"        Accuracy: {:.2f}%\".format(acc*100))\n",
        "print(\"Confusion Matrix:\\n{}\".format(cm))\n",
        "plt.figure(figsize=(6,4))\n",
        "sns.heatmap(cm, annot=True, fmt=\"d\",cmap='RdYlGn',linewidths=0.5)\n",
        "plt.show()\n",
        "\n"
      ],
      "metadata": {
        "id": "d3FdYfVKI2-3",
        "colab": {
          "base_uri": "https://localhost:8080/",
          "height": 461
        },
        "outputId": "ff972686-e8dc-4175-a3e9-9f369651c372"
      },
      "execution_count": null,
      "outputs": [
        {
          "output_type": "stream",
          "name": "stdout",
          "text": [
            "5/5 [==============================] - 0s 3ms/step\n",
            "        Accuracy: 90.65%\n",
            "Confusion Matrix:\n",
            "[[70  6]\n",
            " [ 7 56]]\n"
          ]
        },
        {
          "output_type": "display_data",
          "data": {
            "text/plain": [
              "<Figure size 600x400 with 2 Axes>"
            ],
            "image/png": "[encoded data removed]"
          },
          "metadata": {}
        }
      ]
    },
    {
      "cell_type": "code",
      "source": [
        "xtest.shape"
      ],
      "metadata": {
        "colab": {
          "base_uri": "https://localhost:8080/"
        },
        "id": "w4gAXQwiC0Zu",
        "outputId": "89dba4bb-699e-4a46-d473-8b65ed9c691a"
      },
      "execution_count": null,
      "outputs": [
        {
          "output_type": "execute_result",
          "data": {
            "text/plain": [
              "(139, 11)"
            ]
          },
          "metadata": {},
          "execution_count": 37
        }
      ]
    },
    {
      "cell_type": "markdown",
      "source": [
        "#FLASK"
      ],
      "metadata": {
        "id": "GdRfPGB99g02"
      }
    },
    {
      "cell_type": "code",
      "source": [
        "from google.colab import drive\n",
        "drive.mount('mydrive')"
      ],
      "metadata": {
        "colab": {
          "base_uri": "https://localhost:8080/"
        },
        "id": "sii-u9gH_NaU",
        "outputId": "8adcbfdb-465b-464f-b33b-e303f953e5f6"
      },
      "execution_count": null,
      "outputs": [
        {
          "output_type": "stream",
          "name": "stdout",
          "text": [
            "Mounted at mydrive\n"
          ]
        }
      ]
    },
    {
      "cell_type": "code",
      "source": [
        "!unzip /content/mydrive/MyDrive/flaskapp_fake_socialmedia3.zip -d /content"
      ],
      "metadata": {
        "id": "hvVSaiYk_b_5",
        "colab": {
          "base_uri": "https://localhost:8080/"
        },
        "outputId": "c6cdb2c7-1e8d-4c2c-c229-70f7d5012729"
      },
      "execution_count": null,
      "outputs": [
        {
          "output_type": "stream",
          "name": "stdout",
          "text": [
            "Archive:  /content/mydrive/MyDrive/flaskapp_fake_socialmedia3.zip\n",
            "   creating: /content/static/\n",
            "  inflating: /content/static/im.jpeg  \n",
            "  inflating: /content/static/style.css  \n",
            "  inflating: /content/static/style2.css  \n",
            "   creating: /content/templates/\n",
            "  inflating: /content/templates/home.html  \n",
            "  inflating: /content/templates/index.html  \n",
            "  inflating: /content/templates/result.html  \n"
          ]
        }
      ]
    },
    {
      "cell_type": "code",
      "source": [
        "!pip install pyngrok -q"
      ],
      "metadata": {
        "id": "ArcDv1uR6usO"
      },
      "execution_count": null,
      "outputs": []
    },
    {
      "cell_type": "code",
      "source": [
        "from pyngrok import ngrok, conf\n",
        "token = \"2eztvNplOtga9rilPbv8NMIsfMY_5UvygYJKgBpjrirsjDcTG\"\n",
        "conf.get_default().auth_token = token\n",
        "# Open a TCP ngrok tunnel to the SSH server\n",
        "connection_string = ngrok.connect(\"22\", \"tcp\").public_url\n",
        "\n",
        "ssh_url, port = connection_string.strip(\"tcp://\").split(\":\")\n",
        "print(f\" * ngrok tunnel available, access with `ssh root@{ssh_url} -p{port}`\")"
      ],
      "metadata": {
        "colab": {
          "base_uri": "https://localhost:8080/"
        },
        "id": "S1hh6FDX9jog",
        "outputId": "0f1d4769-ea7f-4217-94c5-a6871227caa6"
      },
      "execution_count": null,
      "outputs": [
        {
          "output_type": "stream",
          "name": "stdout",
          "text": [
            " * ngrok tunnel available, access with `ssh root@0.tcp.ngrok.io -p16845`\n"
          ]
        }
      ]
    },
    {
      "cell_type": "code",
      "source": [
        "import os\n",
        "import threading\n",
        "import time\n",
        "from flask import Flask,render_template,request\n",
        "from pyngrok import ngrok\n",
        "import re\n",
        "import pandas as pd\n",
        "\n",
        "app = Flask(__name__,template_folder='templates',static_folder='static')\n",
        "port = \"2000\"\n",
        "\n",
        "# Open a ngrok tunnel to the HTTP server\n",
        "public_url = ngrok.connect(port).public_url\n",
        "print(public_url)\n",
        "# Update any base URLs to use the public ngrok URL\n",
        "app.config[\"BASE_URL\"] = public_url\n",
        "\n",
        "# Define Flask routes\n",
        "@app.route(\"/\")\n",
        "def home():\n",
        "    return render_template(\"home.html\")\n",
        "@app.route('/predict', methods=['GET','POST'])\n",
        "def predict():\n",
        "    input_data = []\n",
        "    result = None\n",
        "    if request.method == 'POST':\n",
        "        input_data.append(request.form.get(\"profilepic\").lower())\n",
        "        username = request.form.get(\"nctulr\")\n",
        "        nctulr = len(re.findall(r'\\d+',username))/len(username)\n",
        "        input_data.append(nctulr)\n",
        "        fullname = request.form.get(\"fnwc\")\n",
        "        fnwc = len(fullname.split())\n",
        "        input_data.append(float(fnwc))\n",
        "        nctfnlr = len(re.findall(r'\\d+',fullname))/len(fullname)\n",
        "        input_data.append(float(nctfnlr))\n",
        "        # input_data.append(float(request.form.get(\"nctfnlr\")))\n",
        "        # input_data.append(float(request.form.get(\"nmun\")))\n",
        "        nmun = 1 if username==fullname else 0\n",
        "        input_data.append(float(nmun))\n",
        "        # input_data.append(float(request.form.get(\"dsl\")))\n",
        "        dsl = len(request.form.get(\"dsl\"))\n",
        "        input_data.append(float(dsl))\n",
        "        input_data.append(request.form.get(\"urb\").lower())\n",
        "        input_data.append(request.form.get(\"pf\").lower())\n",
        "        input_data.append(float(request.form.get(\"nop\")))\n",
        "        input_data.append(float(request.form.get(\"nof\")))\n",
        "        input_data.append(float(request.form.get(\"nofs\")))\n",
        "        data = pd.Series(input_data)\n",
        "        data = data.replace('no',0)\n",
        "        data = data.replace('yes',1)\n",
        "        inp = np.array(data)\n",
        "        inp=inp.reshape(1,len(inp))\n",
        "        res= get_result(inp)\n",
        "        if res:\n",
        "          result='FAKE'\n",
        "        else:\n",
        "          result = 'REAL'\n",
        "        return render_template(\"result.html\",result=result)\n",
        "    return render_template(\"index.html\")\n",
        "\n",
        "@app.route(\"/result\")\n",
        "def result():\n",
        "    return render_template(\"result.html\")\n",
        "\n",
        "\n",
        "\n",
        "# Start the Flask server in a new thread\n",
        "threading.Thread(target=app.run(port=port), kwargs={\"use_reloader\": False}).start()"
      ],
      "metadata": {
        "colab": {
          "base_uri": "https://localhost:8080/"
        },
        "id": "wkh18zBa9shv",
        "outputId": "dcaee41d-a2c0-40a2-c510-bc2577428622"
      },
      "execution_count": null,
      "outputs": [
        {
          "output_type": "stream",
          "name": "stdout",
          "text": [
            "https://3627-35-237-125-16.ngrok-free.app\n",
            " * Serving Flask app '__main__'\n",
            " * Debug mode: off\n"
          ]
        },
        {
          "output_type": "stream",
          "name": "stderr",
          "text": [
            "INFO:werkzeug:\u001b[31m\u001b[1mWARNING: This is a development server. Do not use it in a production deployment. Use a production WSGI server instead.\u001b[0m\n",
            " * Running on http://127.0.0.1:2000\n",
            "INFO:werkzeug:\u001b[33mPress CTRL+C to quit\u001b[0m\n",
            "WARNING:pyngrok.process.ngrok:t=2024-05-10T05:12:58+0000 lvl=warn msg=\"failed to open private leg\" id=507b8e1ae634 typ=proxy privaddr=localhost:22 err=\"dial tcp 127.0.0.1:22: connect: connection refused\"\n",
            "WARNING:pyngrok.process.ngrok:t=2024-05-10T05:15:06+0000 lvl=warn msg=\"failed to open private leg\" id=66a13c1a330c typ=proxy privaddr=localhost:22 err=\"dial tcp 127.0.0.1:22: connect: connection refused\"\n",
            "WARNING:pyngrok.process.ngrok:t=2024-05-10T05:17:47+0000 lvl=warn msg=\"failed to open private leg\" id=0d07557a3857 typ=proxy privaddr=localhost:22 err=\"dial tcp 127.0.0.1:22: connect: connection refused\"\n",
            "WARNING:pyngrok.process.ngrok:t=2024-05-10T05:21:17+0000 lvl=warn msg=\"failed to open private leg\" id=065a416b8db3 typ=proxy privaddr=localhost:22 err=\"dial tcp 127.0.0.1:22: connect: connection refused\"\n",
            "WARNING:pyngrok.process.ngrok:t=2024-05-10T05:24:12+0000 lvl=warn msg=\"failed to open private leg\" id=75cb7afc0c95 typ=proxy privaddr=localhost:22 err=\"dial tcp 127.0.0.1:22: connect: connection refused\"\n",
            "WARNING:pyngrok.process.ngrok:t=2024-05-10T05:26:45+0000 lvl=warn msg=\"failed to open private leg\" id=653e0a61e97b typ=proxy privaddr=localhost:22 err=\"dial tcp 127.0.0.1:22: connect: connection refused\"\n",
            "WARNING:pyngrok.process.ngrok:t=2024-05-10T05:29:20+0000 lvl=warn msg=\"failed to open private leg\" id=cbcf637838cc typ=proxy privaddr=localhost:22 err=\"dial tcp 127.0.0.1:22: connect: connection refused\"\n",
            "WARNING:pyngrok.process.ngrok:t=2024-05-10T05:32:00+0000 lvl=warn msg=\"failed to open private leg\" id=f5e2ed6b9951 typ=proxy privaddr=localhost:22 err=\"dial tcp 127.0.0.1:22: connect: connection refused\"\n",
            "WARNING:pyngrok.process.ngrok:t=2024-05-10T05:34:55+0000 lvl=warn msg=\"failed to open private leg\" id=d4379894e5da typ=proxy privaddr=localhost:22 err=\"dial tcp 127.0.0.1:22: connect: connection refused\"\n",
            "WARNING:pyngrok.process.ngrok:t=2024-05-10T05:37:39+0000 lvl=warn msg=\"failed to open private leg\" id=eb08a08dcf10 typ=proxy privaddr=localhost:22 err=\"dial tcp 127.0.0.1:22: connect: connection refused\"\n",
            "WARNING:pyngrok.process.ngrok:t=2024-05-10T05:39:52+0000 lvl=warn msg=\"failed to open private leg\" id=60475533fed8 typ=proxy privaddr=localhost:22 err=\"dial tcp 127.0.0.1:22: connect: connection refused\"\n"
          ]
        }
      ]
    },
    {
      "cell_type": "code",
      "source": [],
      "metadata": {
        "id": "RHicWN9xD4Hi"
      },
      "execution_count": null,
      "outputs": []
    }
  ]
}